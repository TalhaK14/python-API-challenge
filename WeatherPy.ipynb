{
 "cells": [
  {
   "cell_type": "markdown",
   "metadata": {},
   "source": [
    "# WeatherPy\n",
    "----\n",
    "\n",
    "#### Note\n",
    "* Instructions have been included for each segment. You do not have to follow them exactly, but they are included to help you think through the steps."
   ]
  },
  {
   "cell_type": "code",
   "execution_count": 1,
   "metadata": {
    "scrolled": true
   },
   "outputs": [],
   "source": [
    "# Dependencies and Setup\n",
    "import matplotlib.pyplot as plt\n",
    "import pandas as pd\n",
    "import numpy as np\n",
    "import requests\n",
    "import time\n",
    "import json\n",
    "import scipy.stats as st\n",
    "from scipy.stats import linregress\n",
    "\n",
    "# Import API key\n",
    "from api_keys import weather_api_key\n",
    "\n",
    "# Incorporated citipy to determine city based on latitude and longitude\n",
    "from citipy import citipy\n",
    "\n",
    "# Output File (CSV)\n",
    "output_data_file = \"../code/Homework/06-Python-APIs/Instructions/output_data/cities.csv\"\n",
    "\n",
    "# Range of latitudes and longitudes\n",
    "lat_range = (-90, 90)\n",
    "lng_range = (-180, 180)"
   ]
  },
  {
   "cell_type": "markdown",
   "metadata": {},
   "source": [
    "## Generate Cities List"
   ]
  },
  {
   "cell_type": "code",
   "execution_count": 2,
   "metadata": {},
   "outputs": [
    {
     "data": {
      "text/plain": [
       "597"
      ]
     },
     "execution_count": 2,
     "metadata": {},
     "output_type": "execute_result"
    }
   ],
   "source": [
    "# List for holding lat_lngs and cities\n",
    "lat_lngs = []\n",
    "cities = []\n",
    "\n",
    "# Create a set of random lat and lng combinations\n",
    "lats = np.random.uniform(lat_range[0], lat_range[1], size=1500)\n",
    "lngs = np.random.uniform(lng_range[0], lng_range[1], size=1500)\n",
    "lat_lngs = zip(lats, lngs)\n",
    "\n",
    "# Identify nearest city for each lat, lng combination\n",
    "for lat_lng in lat_lngs:\n",
    "    city = citipy.nearest_city(lat_lng[0], lat_lng[1]).city_name\n",
    "    \n",
    "    # If the city is unique, then add it to a our cities list\n",
    "    if city not in cities:\n",
    "        cities.append(city)\n",
    "\n",
    "# Print the city count to confirm sufficient count\n",
    "len(cities)"
   ]
  },
  {
   "cell_type": "markdown",
   "metadata": {},
   "source": [
    "### Perform API Calls\n",
    "* Perform a weather check on each city using a series of successive API calls.\n",
    "* Include a print log of each city as it'sbeing processed (with the city number and city name).\n"
   ]
  },
  {
   "cell_type": "code",
   "execution_count": 3,
   "metadata": {
    "scrolled": true
   },
   "outputs": [
    {
     "name": "stdout",
     "output_type": "stream",
     "text": [
      "Processing Record 1 of Set 1 | bluff\n",
      "Processing Record 2 of Set 1 | hobart\n",
      "Processing Record 3 of Set 1 | manbij\n",
      "Processing Record 4 of Set 1 | hukuntsi\n",
      "Processing Record 5 of Set 1 | tondano\n",
      "Processing Record 6 of Set 1 | belogorsk\n",
      "CITY NOT FOUND. SKIPPING...\n",
      "Processing Record 7 of Set 1 | half moon bay\n",
      "Processing Record 8 of Set 1 | pevek\n",
      "Processing Record 9 of Set 1 | alta floresta\n",
      "Processing Record 10 of Set 1 | albany\n",
      "Processing Record 11 of Set 1 | cascais\n",
      "Processing Record 12 of Set 1 | rikitea\n",
      "Processing Record 13 of Set 1 | dudinka\n",
      "Processing Record 14 of Set 1 | adrar\n",
      "Processing Record 15 of Set 1 | new norfolk\n",
      "Processing Record 16 of Set 1 | riyadh\n",
      "Processing Record 17 of Set 1 | iqaluit\n",
      "Processing Record 18 of Set 1 | hithadhoo\n",
      "Processing Record 19 of Set 1 | warrnambool\n",
      "Processing Record 20 of Set 1 | champerico\n",
      "Processing Record 21 of Set 1 | port lincoln\n",
      "Processing Record 22 of Set 1 | punta arenas\n",
      "Processing Record 23 of Set 1 | port elizabeth\n",
      "Processing Record 24 of Set 1 | ushuaia\n",
      "Processing Record 25 of Set 1 | avarua\n",
      "CITY NOT FOUND. SKIPPING...\n",
      "Processing Record 26 of Set 1 | cape town\n",
      "Processing Record 27 of Set 1 | solnechnyy\n",
      "Processing Record 28 of Set 1 | mana\n",
      "Processing Record 29 of Set 1 | saskylakh\n",
      "Processing Record 30 of Set 1 | atuona\n",
      "Processing Record 31 of Set 1 | dikson\n",
      "Processing Record 32 of Set 1 | kuryk\n",
      "Processing Record 33 of Set 1 | loa janan\n",
      "Processing Record 34 of Set 1 | butaritari\n",
      "Processing Record 35 of Set 1 | busselton\n",
      "Processing Record 36 of Set 1 | bengkulu\n",
      "Processing Record 37 of Set 1 | ilulissat\n",
      "Processing Record 38 of Set 1 | klaksvik\n",
      "Processing Record 39 of Set 1 | port alfred\n",
      "Processing Record 40 of Set 1 | sao filipe\n",
      "Processing Record 41 of Set 1 | zhanaozen\n",
      "Processing Record 42 of Set 1 | khatanga\n",
      "Processing Record 43 of Set 1 | kristianstad\n",
      "Processing Record 44 of Set 1 | provideniya\n",
      "Processing Record 45 of Set 1 | east london\n",
      "Processing Record 46 of Set 1 | puerto ayora\n",
      "Processing Record 47 of Set 1 | cayenne\n",
      "Processing Record 48 of Set 1 | mocuba\n",
      "Processing Record 49 of Set 1 | pemangkat\n",
      "Processing Record 1 of Set 2 | codrington\n",
      "Processing Record 2 of Set 2 | antalaha\n",
      "CITY NOT FOUND. SKIPPING...\n",
      "Processing Record 3 of Set 2 | lompoc\n",
      "Processing Record 4 of Set 2 | kaitangata\n",
      "Processing Record 5 of Set 2 | srednekolymsk\n",
      "CITY NOT FOUND. SKIPPING...\n",
      "CITY NOT FOUND. SKIPPING...\n",
      "CITY NOT FOUND. SKIPPING...\n",
      "Processing Record 6 of Set 2 | upernavik\n",
      "Processing Record 7 of Set 2 | mount isa\n",
      "Processing Record 8 of Set 2 | bathsheba\n",
      "Processing Record 9 of Set 2 | umea\n",
      "Processing Record 10 of Set 2 | tzucacab\n",
      "Processing Record 11 of Set 2 | airai\n",
      "Processing Record 12 of Set 2 | arrifes\n",
      "Processing Record 13 of Set 2 | faya\n",
      "CITY NOT FOUND. SKIPPING...\n",
      "Processing Record 14 of Set 2 | gisborne\n",
      "CITY NOT FOUND. SKIPPING...\n",
      "Processing Record 15 of Set 2 | borovoy\n",
      "Processing Record 16 of Set 2 | auki\n",
      "Processing Record 17 of Set 2 | baoro\n",
      "Processing Record 18 of Set 2 | eyl\n",
      "Processing Record 19 of Set 2 | mataura\n",
      "Processing Record 20 of Set 2 | cidreira\n",
      "Processing Record 21 of Set 2 | viedma\n",
      "Processing Record 22 of Set 2 | roznava\n",
      "CITY NOT FOUND. SKIPPING...\n",
      "Processing Record 23 of Set 2 | minggang\n",
      "Processing Record 24 of Set 2 | ribeira grande\n",
      "Processing Record 25 of Set 2 | kidal\n",
      "Processing Record 26 of Set 2 | lebu\n",
      "Processing Record 27 of Set 2 | panzhihua\n",
      "Processing Record 28 of Set 2 | margate\n",
      "Processing Record 29 of Set 2 | bethel\n",
      "Processing Record 30 of Set 2 | santiago del estero\n",
      "Processing Record 31 of Set 2 | luba\n",
      "CITY NOT FOUND. SKIPPING...\n",
      "Processing Record 32 of Set 2 | clocolan\n",
      "Processing Record 33 of Set 2 | taungdwingyi\n",
      "Processing Record 34 of Set 2 | wuning\n",
      "Processing Record 35 of Set 2 | gazanjyk\n",
      "Processing Record 36 of Set 2 | arlit\n",
      "Processing Record 37 of Set 2 | ketchikan\n",
      "Processing Record 38 of Set 2 | makushino\n",
      "Processing Record 39 of Set 2 | husavik\n",
      "Processing Record 40 of Set 2 | lavrentiya\n",
      "Processing Record 41 of Set 2 | constitucion\n",
      "Processing Record 42 of Set 2 | limpapa\n",
      "Processing Record 43 of Set 2 | tuktoyaktuk\n",
      "Processing Record 44 of Set 2 | chokurdakh\n",
      "Processing Record 45 of Set 2 | saurimo\n",
      "Processing Record 46 of Set 2 | saint-philippe\n",
      "Processing Record 47 of Set 2 | aswan\n",
      "Processing Record 48 of Set 2 | tasiilaq\n",
      "Processing Record 49 of Set 2 | honningsvag\n",
      "CITY NOT FOUND. SKIPPING...\n",
      "Processing Record 1 of Set 3 | kapaa\n",
      "Processing Record 2 of Set 3 | prince rupert\n",
      "Processing Record 3 of Set 3 | lashio\n",
      "Processing Record 4 of Set 3 | ambilobe\n",
      "Processing Record 5 of Set 3 | longyearbyen\n",
      "Processing Record 6 of Set 3 | hermanus\n",
      "Processing Record 7 of Set 3 | vila velha\n",
      "Processing Record 8 of Set 3 | melo\n",
      "CITY NOT FOUND. SKIPPING...\n",
      "Processing Record 9 of Set 3 | dingle\n",
      "Processing Record 10 of Set 3 | bambous virieux\n",
      "Processing Record 11 of Set 3 | tessalit\n",
      "Processing Record 12 of Set 3 | tolbazy\n",
      "Processing Record 13 of Set 3 | mitu\n",
      "Processing Record 14 of Set 3 | manakara\n",
      "Processing Record 15 of Set 3 | san patricio\n",
      "Processing Record 16 of Set 3 | mahebourg\n",
      "Processing Record 17 of Set 3 | chuy\n",
      "Processing Record 18 of Set 3 | kodiak\n",
      "CITY NOT FOUND. SKIPPING...\n",
      "Processing Record 19 of Set 3 | buraydah\n",
      "Processing Record 20 of Set 3 | havelock\n",
      "Processing Record 21 of Set 3 | ayorou\n",
      "Processing Record 22 of Set 3 | san isidro\n",
      "Processing Record 23 of Set 3 | lagoa\n",
      "Processing Record 24 of Set 3 | san cristobal\n",
      "Processing Record 25 of Set 3 | portland\n",
      "Processing Record 26 of Set 3 | qaanaaq\n",
      "Processing Record 27 of Set 3 | tafresh\n",
      "CITY NOT FOUND. SKIPPING...\n",
      "Processing Record 28 of Set 3 | toguchin\n",
      "Processing Record 29 of Set 3 | college\n",
      "Processing Record 30 of Set 3 | vostok\n",
      "Processing Record 31 of Set 3 | qingdao\n",
      "CITY NOT FOUND. SKIPPING...\n",
      "Processing Record 32 of Set 3 | saldanha\n",
      "Processing Record 33 of Set 3 | geraldton\n",
      "Processing Record 34 of Set 3 | sola\n",
      "Processing Record 35 of Set 3 | uvalde\n",
      "Processing Record 36 of Set 3 | hofn\n",
      "Processing Record 37 of Set 3 | antofagasta\n",
      "Processing Record 38 of Set 3 | saint-joseph\n",
      "CITY NOT FOUND. SKIPPING...\n",
      "Processing Record 39 of Set 3 | coquimbo\n",
      "Processing Record 40 of Set 3 | vaini\n",
      "CITY NOT FOUND. SKIPPING...\n",
      "Processing Record 41 of Set 3 | oistins\n",
      "Processing Record 42 of Set 3 | arraial do cabo\n",
      "Processing Record 43 of Set 3 | pacific grove\n",
      "Processing Record 44 of Set 3 | nouakchott\n",
      "CITY NOT FOUND. SKIPPING...\n",
      "CITY NOT FOUND. SKIPPING...\n",
      "Processing Record 45 of Set 3 | michalovce\n",
      "Processing Record 46 of Set 3 | castro\n",
      "Processing Record 47 of Set 3 | lac du bonnet\n",
      "Processing Record 48 of Set 3 | majene\n",
      "Processing Record 49 of Set 3 | nouadhibou\n",
      "CITY NOT FOUND. SKIPPING...\n",
      "Processing Record 1 of Set 4 | eugene\n",
      "Processing Record 2 of Set 4 | saquarema\n",
      "Processing Record 3 of Set 4 | novomykolayivka\n",
      "Processing Record 4 of Set 4 | itacare\n",
      "Processing Record 5 of Set 4 | yellowknife\n",
      "Processing Record 6 of Set 4 | peniche\n",
      "CITY NOT FOUND. SKIPPING...\n",
      "Processing Record 7 of Set 4 | tanjong malim\n",
      "Processing Record 8 of Set 4 | nikolskoye\n",
      "Processing Record 9 of Set 4 | kuppam\n",
      "Processing Record 10 of Set 4 | marzuq\n",
      "CITY NOT FOUND. SKIPPING...\n",
      "Processing Record 11 of Set 4 | dunedin\n",
      "Processing Record 12 of Set 4 | tiksi\n",
      "Processing Record 13 of Set 4 | natchitoches\n",
      "Processing Record 14 of Set 4 | coihaique\n",
      "Processing Record 15 of Set 4 | turukhansk\n",
      "Processing Record 16 of Set 4 | avera\n",
      "Processing Record 17 of Set 4 | lasa\n",
      "Processing Record 18 of Set 4 | hilo\n",
      "CITY NOT FOUND. SKIPPING...\n",
      "Processing Record 19 of Set 4 | cavalcante\n",
      "Processing Record 20 of Set 4 | bella union\n",
      "Processing Record 21 of Set 4 | kirakira\n",
      "CITY NOT FOUND. SKIPPING...\n",
      "Processing Record 22 of Set 4 | bilma\n",
      "Processing Record 23 of Set 4 | fos-sur-mer\n",
      "Processing Record 24 of Set 4 | salalah\n",
      "CITY NOT FOUND. SKIPPING...\n",
      "Processing Record 25 of Set 4 | aykino\n",
      "Processing Record 26 of Set 4 | cockburn town\n",
      "Processing Record 27 of Set 4 | lorengau\n",
      "Processing Record 28 of Set 4 | westport\n",
      "Processing Record 29 of Set 4 | nan\n",
      "Processing Record 30 of Set 4 | kenai\n",
      "Processing Record 31 of Set 4 | barrow\n",
      "Processing Record 32 of Set 4 | kajaani\n",
      "Processing Record 33 of Set 4 | nelson bay\n",
      "Processing Record 34 of Set 4 | yatou\n",
      "Processing Record 35 of Set 4 | mayo\n",
      "Processing Record 36 of Set 4 | fort nelson\n"
     ]
    },
    {
     "name": "stdout",
     "output_type": "stream",
     "text": [
      "Processing Record 37 of Set 4 | nishihara\n",
      "Processing Record 38 of Set 4 | mar del plata\n",
      "Processing Record 39 of Set 4 | nazilli\n",
      "CITY NOT FOUND. SKIPPING...\n",
      "Processing Record 40 of Set 4 | rincon\n",
      "Processing Record 41 of Set 4 | lima\n",
      "Processing Record 42 of Set 4 | toora-khem\n",
      "Processing Record 43 of Set 4 | nacala\n",
      "Processing Record 44 of Set 4 | kavaratti\n",
      "Processing Record 45 of Set 4 | redcar\n",
      "Processing Record 46 of Set 4 | bafq\n",
      "Processing Record 47 of Set 4 | fortuna\n",
      "Processing Record 48 of Set 4 | bredasdorp\n",
      "Processing Record 49 of Set 4 | kanniyakumari\n",
      "Processing Record 1 of Set 5 | saint-augustin\n",
      "Processing Record 2 of Set 5 | darab\n",
      "Processing Record 3 of Set 5 | jamestown\n",
      "Processing Record 4 of Set 5 | norman wells\n",
      "Processing Record 5 of Set 5 | yulara\n",
      "CITY NOT FOUND. SKIPPING...\n",
      "Processing Record 6 of Set 5 | ponta do sol\n",
      "Processing Record 7 of Set 5 | china\n",
      "Processing Record 8 of Set 5 | severo-kurilsk\n",
      "Processing Record 9 of Set 5 | benguela\n",
      "Processing Record 10 of Set 5 | thompson\n",
      "Processing Record 11 of Set 5 | martinsville\n",
      "Processing Record 12 of Set 5 | necochea\n",
      "Processing Record 13 of Set 5 | tuatapere\n",
      "Processing Record 14 of Set 5 | tungor\n",
      "Processing Record 15 of Set 5 | torbay\n",
      "Processing Record 16 of Set 5 | sitka\n",
      "Processing Record 17 of Set 5 | poum\n",
      "Processing Record 18 of Set 5 | cockburn harbour\n",
      "Processing Record 19 of Set 5 | flinders\n",
      "Processing Record 20 of Set 5 | laguna\n",
      "Processing Record 21 of Set 5 | havre-saint-pierre\n",
      "Processing Record 22 of Set 5 | aklavik\n",
      "Processing Record 23 of Set 5 | nova soure\n",
      "Processing Record 24 of Set 5 | haines junction\n",
      "Processing Record 25 of Set 5 | mount gambier\n",
      "Processing Record 26 of Set 5 | innisfail\n",
      "CITY NOT FOUND. SKIPPING...\n",
      "Processing Record 27 of Set 5 | atherton\n",
      "Processing Record 28 of Set 5 | kokstad\n",
      "Processing Record 29 of Set 5 | dalbandin\n",
      "Processing Record 30 of Set 5 | moose factory\n",
      "Processing Record 31 of Set 5 | georgetown\n",
      "CITY NOT FOUND. SKIPPING...\n",
      "Processing Record 32 of Set 5 | sibolga\n",
      "CITY NOT FOUND. SKIPPING...\n",
      "Processing Record 33 of Set 5 | kloulklubed\n",
      "Processing Record 34 of Set 5 | mao\n",
      "Processing Record 35 of Set 5 | belaya gora\n",
      "Processing Record 36 of Set 5 | kruisfontein\n",
      "Processing Record 37 of Set 5 | leningradskiy\n",
      "Processing Record 38 of Set 5 | kaeo\n",
      "Processing Record 39 of Set 5 | fuerte olimpo\n",
      "Processing Record 40 of Set 5 | ancud\n",
      "Processing Record 41 of Set 5 | krasnoselkup\n",
      "CITY NOT FOUND. SKIPPING...\n",
      "Processing Record 42 of Set 5 | terme\n",
      "Processing Record 43 of Set 5 | doaba\n",
      "CITY NOT FOUND. SKIPPING...\n",
      "Processing Record 44 of Set 5 | zhaotong\n",
      "Processing Record 45 of Set 5 | evanton\n",
      "Processing Record 46 of Set 5 | morehead\n",
      "Processing Record 47 of Set 5 | cabo san lucas\n",
      "CITY NOT FOUND. SKIPPING...\n",
      "Processing Record 48 of Set 5 | udachnyy\n",
      "Processing Record 49 of Set 5 | moron\n",
      "Processing Record 1 of Set 6 | hasaki\n",
      "Processing Record 2 of Set 6 | hamilton\n",
      "Processing Record 3 of Set 6 | xining\n",
      "Processing Record 4 of Set 6 | marondera\n",
      "Processing Record 5 of Set 6 | uinskoye\n",
      "Processing Record 6 of Set 6 | zarichne\n",
      "Processing Record 7 of Set 6 | victoria\n",
      "Processing Record 8 of Set 6 | sisimiut\n",
      "Processing Record 9 of Set 6 | nicoya\n",
      "Processing Record 10 of Set 6 | carnarvon\n",
      "Processing Record 11 of Set 6 | iroquois falls\n",
      "Processing Record 12 of Set 6 | burnie\n",
      "Processing Record 13 of Set 6 | port macquarie\n",
      "Processing Record 14 of Set 6 | svetlogorsk\n",
      "Processing Record 15 of Set 6 | mirnyy\n",
      "Processing Record 16 of Set 6 | nuuk\n",
      "Processing Record 17 of Set 6 | acapulco\n",
      "Processing Record 18 of Set 6 | ponta delgada\n",
      "Processing Record 19 of Set 6 | naze\n",
      "Processing Record 20 of Set 6 | nhulunbuy\n",
      "Processing Record 21 of Set 6 | namibe\n",
      "Processing Record 22 of Set 6 | at-bashi\n",
      "Processing Record 23 of Set 6 | misratah\n",
      "Processing Record 24 of Set 6 | talnakh\n",
      "Processing Record 25 of Set 6 | amantea\n",
      "Processing Record 26 of Set 6 | dwarka\n",
      "Processing Record 27 of Set 6 | nanortalik\n",
      "Processing Record 28 of Set 6 | esperance\n",
      "Processing Record 29 of Set 6 | yekimovichi\n",
      "Processing Record 30 of Set 6 | fairbanks\n",
      "Processing Record 31 of Set 6 | bandarbeyla\n",
      "Processing Record 32 of Set 6 | venado tuerto\n",
      "Processing Record 33 of Set 6 | san fernando\n",
      "Processing Record 34 of Set 6 | najran\n",
      "Processing Record 35 of Set 6 | macusani\n",
      "CITY NOT FOUND. SKIPPING...\n",
      "Processing Record 36 of Set 6 | lichinga\n",
      "Processing Record 37 of Set 6 | muros\n",
      "Processing Record 38 of Set 6 | kayerkan\n",
      "Processing Record 39 of Set 6 | joshimath\n",
      "Processing Record 40 of Set 6 | hit\n",
      "Processing Record 41 of Set 6 | paamiut\n",
      "Processing Record 42 of Set 6 | lazaro cardenas\n",
      "Processing Record 43 of Set 6 | cherskiy\n",
      "Processing Record 44 of Set 6 | jardim\n",
      "Processing Record 45 of Set 6 | sajokaza\n",
      "Processing Record 46 of Set 6 | bay-khaak\n",
      "Processing Record 47 of Set 6 | carutapera\n",
      "Processing Record 48 of Set 6 | novyy urengoy\n",
      "Processing Record 49 of Set 6 | chapeco\n",
      "Processing Record 1 of Set 7 | ust-ilimsk\n",
      "Processing Record 2 of Set 7 | butembo\n",
      "Processing Record 3 of Set 7 | matadi\n",
      "Processing Record 4 of Set 7 | shenjiamen\n",
      "Processing Record 5 of Set 7 | anloga\n",
      "Processing Record 6 of Set 7 | iquitos\n",
      "Processing Record 7 of Set 7 | gucheng\n",
      "CITY NOT FOUND. SKIPPING...\n",
      "Processing Record 8 of Set 7 | murdochville\n",
      "Processing Record 9 of Set 7 | san vicente\n",
      "Processing Record 10 of Set 7 | sampit\n",
      "Processing Record 11 of Set 7 | sinnamary\n",
      "Processing Record 12 of Set 7 | harnoli\n",
      "Processing Record 13 of Set 7 | banjar\n",
      "Processing Record 14 of Set 7 | urumqi\n",
      "CITY NOT FOUND. SKIPPING...\n",
      "Processing Record 15 of Set 7 | ulcinj\n",
      "Processing Record 16 of Set 7 | ishigaki\n",
      "Processing Record 17 of Set 7 | cap malheureux\n",
      "Processing Record 18 of Set 7 | shelburne\n",
      "Processing Record 19 of Set 7 | moanda\n",
      "Processing Record 20 of Set 7 | shieli\n",
      "Processing Record 21 of Set 7 | lisakovsk\n",
      "Processing Record 22 of Set 7 | namatanai\n",
      "Processing Record 23 of Set 7 | san luis\n",
      "Processing Record 24 of Set 7 | ouallam\n",
      "Processing Record 25 of Set 7 | alofi\n",
      "Processing Record 26 of Set 7 | kieta\n",
      "Processing Record 27 of Set 7 | ibaiti\n",
      "Processing Record 28 of Set 7 | bud\n",
      "Processing Record 29 of Set 7 | sovetskiy\n",
      "Processing Record 30 of Set 7 | baykit\n",
      "Processing Record 31 of Set 7 | luderitz\n",
      "Processing Record 32 of Set 7 | deputatskiy\n",
      "Processing Record 33 of Set 7 | suntar\n",
      "Processing Record 34 of Set 7 | humaita\n",
      "Processing Record 35 of Set 7 | marovoay\n",
      "Processing Record 36 of Set 7 | bereda\n",
      "Processing Record 37 of Set 7 | nakusp\n",
      "CITY NOT FOUND. SKIPPING...\n",
      "Processing Record 38 of Set 7 | addi ugri\n",
      "Processing Record 39 of Set 7 | valkeakoski\n",
      "Processing Record 40 of Set 7 | zharkent\n",
      "Processing Record 41 of Set 7 | narsaq\n",
      "CITY NOT FOUND. SKIPPING...\n",
      "CITY NOT FOUND. SKIPPING...\n",
      "Processing Record 42 of Set 7 | mahajanga\n",
      "Processing Record 43 of Set 7 | dukat\n",
      "Processing Record 44 of Set 7 | voznesenye\n",
      "Processing Record 45 of Set 7 | belmonte\n",
      "CITY NOT FOUND. SKIPPING...\n",
      "Processing Record 46 of Set 7 | nadym\n",
      "Processing Record 47 of Set 7 | tecklenburg\n",
      "Processing Record 48 of Set 7 | sur\n",
      "Processing Record 49 of Set 7 | wagar\n",
      "Processing Record 1 of Set 8 | beloha\n",
      "Processing Record 2 of Set 8 | letlhakane\n",
      "Processing Record 3 of Set 8 | jalu\n",
      "Processing Record 4 of Set 8 | tautira\n",
      "Processing Record 5 of Set 8 | bayir\n",
      "Processing Record 6 of Set 8 | casablanca\n",
      "Processing Record 7 of Set 8 | tocopilla\n",
      "Processing Record 8 of Set 8 | gat\n",
      "Processing Record 9 of Set 8 | kuandian\n",
      "Processing Record 10 of Set 8 | valentin gomez farias\n",
      "Processing Record 11 of Set 8 | makat\n",
      "Processing Record 12 of Set 8 | atar\n",
      "Processing Record 13 of Set 8 | shitanjing\n",
      "Processing Record 14 of Set 8 | apatou\n",
      "Processing Record 15 of Set 8 | zanzibar\n",
      "Processing Record 16 of Set 8 | burgeo\n",
      "Processing Record 17 of Set 8 | komsomolskiy\n",
      "Processing Record 18 of Set 8 | elat\n",
      "Processing Record 19 of Set 8 | honiara\n",
      "Processing Record 20 of Set 8 | marsala\n",
      "Processing Record 21 of Set 8 | opopeo\n",
      "Processing Record 22 of Set 8 | yamada\n",
      "CITY NOT FOUND. SKIPPING...\n",
      "Processing Record 23 of Set 8 | vao\n",
      "Processing Record 24 of Set 8 | souillac\n",
      "Processing Record 25 of Set 8 | tazovskiy\n",
      "Processing Record 26 of Set 8 | port hardy\n",
      "Processing Record 27 of Set 8 | jiwani\n",
      "Processing Record 28 of Set 8 | kailua\n",
      "Processing Record 29 of Set 8 | zhuhai\n",
      "Processing Record 30 of Set 8 | loubomo\n"
     ]
    },
    {
     "name": "stdout",
     "output_type": "stream",
     "text": [
      "Processing Record 31 of Set 8 | sivaki\n",
      "Processing Record 32 of Set 8 | soyo\n",
      "Processing Record 33 of Set 8 | tabuk\n",
      "Processing Record 34 of Set 8 | beringovskiy\n",
      "Processing Record 35 of Set 8 | awjilah\n",
      "Processing Record 36 of Set 8 | mys shmidta\n",
      "Processing Record 37 of Set 8 | duki\n",
      "Processing Record 38 of Set 8 | chicama\n",
      "Processing Record 39 of Set 8 | tilichiki\n",
      "Processing Record 40 of Set 8 | qitaihe\n",
      "CITY NOT FOUND. SKIPPING...\n",
      "Processing Record 41 of Set 8 | rovaniemi\n",
      "Processing Record 42 of Set 8 | san javier\n",
      "Processing Record 43 of Set 8 | jutai\n",
      "Processing Record 44 of Set 8 | petropavlovsk-kamchatskiy\n",
      "Processing Record 45 of Set 8 | daru\n",
      "Processing Record 46 of Set 8 | meiganga\n",
      "Processing Record 47 of Set 8 | mercedes\n",
      "Processing Record 48 of Set 8 | bindki\n",
      "Processing Record 49 of Set 8 | saint-pierre\n",
      "Processing Record 1 of Set 9 | tahe\n",
      "Processing Record 2 of Set 9 | sault sainte marie\n",
      "Processing Record 3 of Set 9 | yumen\n",
      "Processing Record 4 of Set 9 | zapolyarnyy\n",
      "Processing Record 5 of Set 9 | mama\n",
      "Processing Record 6 of Set 9 | almaznyy\n",
      "Processing Record 7 of Set 9 | makaha\n",
      "Processing Record 8 of Set 9 | dalianwan\n",
      "Processing Record 9 of Set 9 | moyale\n",
      "Processing Record 10 of Set 9 | ugoofaaru\n",
      "Processing Record 11 of Set 9 | ust-kan\n",
      "Processing Record 12 of Set 9 | noumea\n",
      "CITY NOT FOUND. SKIPPING...\n",
      "Processing Record 13 of Set 9 | aiquile\n",
      "Processing Record 14 of Set 9 | lere\n",
      "CITY NOT FOUND. SKIPPING...\n",
      "Processing Record 15 of Set 9 | bira\n",
      "CITY NOT FOUND. SKIPPING...\n",
      "Processing Record 16 of Set 9 | alpharetta\n",
      "Processing Record 17 of Set 9 | gambela\n",
      "Processing Record 18 of Set 9 | karwar\n",
      "Processing Record 19 of Set 9 | ostrovnoy\n",
      "Processing Record 20 of Set 9 | skjervoy\n",
      "Processing Record 21 of Set 9 | amapa\n",
      "Processing Record 22 of Set 9 | hanumangarh\n",
      "CITY NOT FOUND. SKIPPING...\n",
      "Processing Record 23 of Set 9 | rio gallegos\n",
      "Processing Record 24 of Set 9 | bjorkelangen\n",
      "Processing Record 25 of Set 9 | kushmurun\n",
      "Processing Record 26 of Set 9 | bedele\n",
      "Processing Record 27 of Set 9 | san policarpo\n",
      "Processing Record 28 of Set 9 | kumla\n",
      "Processing Record 29 of Set 9 | tezu\n",
      "Processing Record 30 of Set 9 | sibenik\n",
      "Processing Record 31 of Set 9 | rawson\n",
      "Processing Record 32 of Set 9 | bowen\n",
      "CITY NOT FOUND. SKIPPING...\n",
      "CITY NOT FOUND. SKIPPING...\n",
      "Processing Record 33 of Set 9 | luwuk\n",
      "Processing Record 34 of Set 9 | hvolsvollur\n",
      "CITY NOT FOUND. SKIPPING...\n",
      "Processing Record 35 of Set 9 | cefalu\n",
      "Processing Record 36 of Set 9 | faanui\n",
      "Processing Record 37 of Set 9 | kahului\n",
      "Processing Record 38 of Set 9 | sao gabriel da cachoeira\n",
      "Processing Record 39 of Set 9 | kaduna\n",
      "Processing Record 40 of Set 9 | dalvik\n",
      "Processing Record 41 of Set 9 | cherepovets\n",
      "Processing Record 42 of Set 9 | erzin\n",
      "Processing Record 43 of Set 9 | taltal\n",
      "Processing Record 44 of Set 9 | makakilo city\n",
      "Processing Record 45 of Set 9 | zhuanghe\n",
      "Processing Record 46 of Set 9 | sivas\n",
      "CITY NOT FOUND. SKIPPING...\n",
      "CITY NOT FOUND. SKIPPING...\n",
      "Processing Record 47 of Set 9 | xinqing\n",
      "Processing Record 48 of Set 9 | port blair\n",
      "Processing Record 49 of Set 9 | kamir\n",
      "Processing Record 1 of Set 10 | sao jose da coroa grande\n",
      "Processing Record 2 of Set 10 | syamzha\n",
      "Processing Record 3 of Set 10 | northam\n",
      "Processing Record 4 of Set 10 | hearst\n",
      "Processing Record 5 of Set 10 | mvuma\n",
      "Processing Record 6 of Set 10 | ipixuna\n",
      "Processing Record 7 of Set 10 | kavieng\n",
      "Processing Record 8 of Set 10 | manokwari\n",
      "Processing Record 9 of Set 10 | marsh harbour\n",
      "Processing Record 10 of Set 10 | otane\n",
      "Processing Record 11 of Set 10 | shibetsu\n",
      "Processing Record 12 of Set 10 | nantucket\n",
      "Processing Record 13 of Set 10 | saint-michel-des-saints\n",
      "Processing Record 14 of Set 10 | balykshi\n",
      "Processing Record 15 of Set 10 | north bend\n",
      "Processing Record 16 of Set 10 | inhambane\n",
      "Processing Record 17 of Set 10 | horta\n",
      "Processing Record 18 of Set 10 | basco\n",
      "Processing Record 19 of Set 10 | tornio\n",
      "Processing Record 20 of Set 10 | ellensburg\n",
      "Processing Record 21 of Set 10 | caconda\n",
      "Processing Record 22 of Set 10 | pisco\n",
      "Processing Record 23 of Set 10 | palmer\n",
      "Processing Record 24 of Set 10 | grindavik\n",
      "Processing Record 25 of Set 10 | gigmoto\n",
      "Processing Record 26 of Set 10 | keti bandar\n",
      "Processing Record 27 of Set 10 | yar-sale\n",
      "Processing Record 28 of Set 10 | voyvozh\n",
      "Processing Record 29 of Set 10 | lubao\n",
      "Processing Record 30 of Set 10 | baijiantan\n",
      "CITY NOT FOUND. SKIPPING...\n",
      "Processing Record 31 of Set 10 | kemijarvi\n",
      "Processing Record 32 of Set 10 | pocone\n",
      "Processing Record 33 of Set 10 | santa cruz del sur\n",
      "Processing Record 34 of Set 10 | batticaloa\n",
      "CITY NOT FOUND. SKIPPING...\n",
      "Processing Record 35 of Set 10 | shaowu\n",
      "Processing Record 36 of Set 10 | san jeronimo\n",
      "Processing Record 37 of Set 10 | vanimo\n",
      "Processing Record 38 of Set 10 | kouroussa\n",
      "Processing Record 39 of Set 10 | clyde river\n",
      "Processing Record 40 of Set 10 | isangel\n",
      "Processing Record 41 of Set 10 | youghal\n",
      "CITY NOT FOUND. SKIPPING...\n",
      "Processing Record 42 of Set 10 | sao joao da barra\n",
      "Processing Record 43 of Set 10 | zhigansk\n",
      "Processing Record 44 of Set 10 | phan rang\n",
      "Processing Record 45 of Set 10 | risch\n",
      "CITY NOT FOUND. SKIPPING...\n",
      "Processing Record 46 of Set 10 | fereydun kenar\n",
      "Processing Record 47 of Set 10 | yaan\n",
      "Processing Record 48 of Set 10 | salinas\n",
      "Processing Record 49 of Set 10 | kilindoni\n",
      "Processing Record 1 of Set 11 | mahanoro\n",
      "Processing Record 2 of Set 11 | zalantun\n",
      "Processing Record 3 of Set 11 | pangnirtung\n",
      "Processing Record 4 of Set 11 | griffith\n",
      "Processing Record 5 of Set 11 | itupiranga\n",
      "Processing Record 6 of Set 11 | tanjong sepat\n",
      "CITY NOT FOUND. SKIPPING...\n",
      "Processing Record 7 of Set 11 | san andres\n",
      "Processing Record 8 of Set 11 | houlton\n",
      "Processing Record 9 of Set 11 | berdigestyakh\n",
      "Processing Record 10 of Set 11 | altamira\n",
      "Processing Record 11 of Set 11 | dodge city\n",
      "Processing Record 12 of Set 11 | yarovoye\n",
      "Processing Record 13 of Set 11 | queen victoria\n",
      "CITY NOT FOUND. SKIPPING...\n",
      "CITY NOT FOUND. SKIPPING...\n",
      "Processing Record 14 of Set 11 | kulhudhuffushi\n",
      "Processing Record 15 of Set 11 | karratha\n",
      "Processing Record 16 of Set 11 | meulaboh\n",
      "Processing Record 17 of Set 11 | kautokeino\n",
      "Processing Record 18 of Set 11 | sao raimundo nonato\n",
      "Processing Record 19 of Set 11 | korla\n",
      "Processing Record 20 of Set 11 | saku\n",
      "Processing Record 21 of Set 11 | kuty\n",
      "Processing Record 22 of Set 11 | erenhot\n",
      "Processing Record 23 of Set 11 | sidrolandia\n",
      "Processing Record 24 of Set 11 | jackson\n",
      "Processing Record 25 of Set 11 | asyut\n",
      "Processing Record 26 of Set 11 | impfondo\n",
      "Processing Record 27 of Set 11 | kununurra\n",
      "Processing Record 28 of Set 11 | luanda\n",
      "Processing Record 29 of Set 11 | saint-louis\n",
      "CITY NOT FOUND. SKIPPING...\n",
      "Processing Record 30 of Set 11 | quelimane\n",
      "CITY NOT FOUND. SKIPPING...\n",
      "Processing Record 31 of Set 11 | hirara\n",
      "Processing Record 32 of Set 11 | kuytun\n",
      "Processing Record 33 of Set 11 | ossora\n",
      "Processing Record 34 of Set 11 | vardo\n",
      "Processing Record 35 of Set 11 | whitefish\n",
      "Processing Record 36 of Set 11 | fukue\n",
      "Processing Record 37 of Set 11 | rodrigues alves\n",
      "Processing Record 38 of Set 11 | aksu\n",
      "Processing Record 39 of Set 11 | sangar\n",
      "Processing Record 40 of Set 11 | kerman\n",
      "Processing Record 41 of Set 11 | mayumba\n",
      "CITY NOT FOUND. SKIPPING...\n",
      "Processing Record 42 of Set 11 | vitre\n",
      "Processing Record 43 of Set 11 | petropavlovka\n",
      "Processing Record 44 of Set 11 | uyuni\n",
      "Processing Record 45 of Set 11 | gazojak\n",
      "Processing Record 46 of Set 11 | kobryn\n"
     ]
    }
   ],
   "source": [
    "units = \"imperial\"\n",
    "query_url = f\"http://api.openweathermap.org/data/2.5/weather?appid={weather_api_key}&units={units}&q=\"\n",
    "\n",
    "city_list = []\n",
    "cloudiness = []\n",
    "country = []\n",
    "date = []\n",
    "humidity = []\n",
    "lat = []\n",
    "lng = []\n",
    "max_temp = []\n",
    "wind_speed = []\n",
    "\n",
    "count_number = 0\n",
    "set_number = 1\n",
    "\n",
    "for city in cities:\n",
    "    try:\n",
    "        response = requests.get(query_url + city.replace(\" \",\"&\")).json()\n",
    "        cloudiness.append(response[\"clouds\"][\"all\"])\n",
    "        country.append(response[\"sys\"][\"country\"])\n",
    "        date.append(response[\"dt\"])\n",
    "        humidity.append(response[\"main\"]['humidity'])\n",
    "        lat.append(response[\"coord\"][\"lat\"])\n",
    "        lng.append(response[\"coord\"][\"lon\"])\n",
    "        max_temp.append(response[\"main\"]['temp_max'])\n",
    "        wind_speed.append(response[\"wind\"][\"speed\"])\n",
    "        if count_number > 48:\n",
    "            count_number = 1\n",
    "            set_number += 1\n",
    "            city_list.append(city)\n",
    "        else:\n",
    "            count_number += 1\n",
    "            city_list.append(city)\n",
    "        print(f\"Processing Record {count_number} of Set {set_number} | {city}\")\n",
    "    except (KeyError, IndexError):\n",
    "        print(\"CITY NOT FOUND. SKIPPING...\")      "
   ]
  },
  {
   "cell_type": "markdown",
   "metadata": {},
   "source": [
    "### Convert Raw Data to DataFrame\n",
    "* Export the city data into a .csv.\n",
    "* Display the DataFrame"
   ]
  },
  {
   "cell_type": "code",
   "execution_count": 9,
   "metadata": {},
   "outputs": [
    {
     "data": {
      "text/html": [
       "<div>\n",
       "<style scoped>\n",
       "    .dataframe tbody tr th:only-of-type {\n",
       "        vertical-align: middle;\n",
       "    }\n",
       "\n",
       "    .dataframe tbody tr th {\n",
       "        vertical-align: top;\n",
       "    }\n",
       "\n",
       "    .dataframe thead th {\n",
       "        text-align: right;\n",
       "    }\n",
       "</style>\n",
       "<table border=\"1\" class=\"dataframe\">\n",
       "  <thead>\n",
       "    <tr style=\"text-align: right;\">\n",
       "      <th></th>\n",
       "      <th>City</th>\n",
       "      <th>Cloudiness</th>\n",
       "      <th>Country</th>\n",
       "      <th>Date</th>\n",
       "      <th>Humidity</th>\n",
       "      <th>Lat</th>\n",
       "      <th>Lng</th>\n",
       "      <th>Max Temp</th>\n",
       "      <th>Wind Speed</th>\n",
       "    </tr>\n",
       "  </thead>\n",
       "  <tbody>\n",
       "    <tr>\n",
       "      <th>0</th>\n",
       "      <td>bluff</td>\n",
       "      <td>100</td>\n",
       "      <td>NZ</td>\n",
       "      <td>1618266886</td>\n",
       "      <td>95</td>\n",
       "      <td>-46.6000</td>\n",
       "      <td>168.3333</td>\n",
       "      <td>54.00</td>\n",
       "      <td>1.99</td>\n",
       "    </tr>\n",
       "    <tr>\n",
       "      <th>1</th>\n",
       "      <td>hobart</td>\n",
       "      <td>75</td>\n",
       "      <td>AU</td>\n",
       "      <td>1618266982</td>\n",
       "      <td>87</td>\n",
       "      <td>-42.8794</td>\n",
       "      <td>147.3294</td>\n",
       "      <td>46.99</td>\n",
       "      <td>6.91</td>\n",
       "    </tr>\n",
       "    <tr>\n",
       "      <th>2</th>\n",
       "      <td>manbij</td>\n",
       "      <td>0</td>\n",
       "      <td>SY</td>\n",
       "      <td>1618267153</td>\n",
       "      <td>87</td>\n",
       "      <td>36.5281</td>\n",
       "      <td>37.9549</td>\n",
       "      <td>37.40</td>\n",
       "      <td>5.75</td>\n",
       "    </tr>\n",
       "    <tr>\n",
       "      <th>3</th>\n",
       "      <td>hukuntsi</td>\n",
       "      <td>0</td>\n",
       "      <td>BW</td>\n",
       "      <td>1618267153</td>\n",
       "      <td>36</td>\n",
       "      <td>-24.0000</td>\n",
       "      <td>21.7500</td>\n",
       "      <td>69.13</td>\n",
       "      <td>8.97</td>\n",
       "    </tr>\n",
       "    <tr>\n",
       "      <th>4</th>\n",
       "      <td>tondano</td>\n",
       "      <td>20</td>\n",
       "      <td>ID</td>\n",
       "      <td>1618267154</td>\n",
       "      <td>94</td>\n",
       "      <td>1.3038</td>\n",
       "      <td>124.9112</td>\n",
       "      <td>75.20</td>\n",
       "      <td>1.97</td>\n",
       "    </tr>\n",
       "    <tr>\n",
       "      <th>5</th>\n",
       "      <td>belogorsk</td>\n",
       "      <td>55</td>\n",
       "      <td>RU</td>\n",
       "      <td>1618267154</td>\n",
       "      <td>55</td>\n",
       "      <td>50.9158</td>\n",
       "      <td>128.4611</td>\n",
       "      <td>21.58</td>\n",
       "      <td>15.43</td>\n",
       "    </tr>\n",
       "    <tr>\n",
       "      <th>6</th>\n",
       "      <td>half moon bay</td>\n",
       "      <td>50</td>\n",
       "      <td>LR</td>\n",
       "      <td>1618267009</td>\n",
       "      <td>87</td>\n",
       "      <td>6.3807</td>\n",
       "      <td>-10.6953</td>\n",
       "      <td>79.99</td>\n",
       "      <td>5.57</td>\n",
       "    </tr>\n",
       "    <tr>\n",
       "      <th>7</th>\n",
       "      <td>pevek</td>\n",
       "      <td>100</td>\n",
       "      <td>RU</td>\n",
       "      <td>1618267039</td>\n",
       "      <td>97</td>\n",
       "      <td>69.7008</td>\n",
       "      <td>170.3133</td>\n",
       "      <td>-12.95</td>\n",
       "      <td>5.32</td>\n",
       "    </tr>\n",
       "    <tr>\n",
       "      <th>8</th>\n",
       "      <td>alta floresta</td>\n",
       "      <td>34</td>\n",
       "      <td>NO</td>\n",
       "      <td>1618267155</td>\n",
       "      <td>68</td>\n",
       "      <td>69.9689</td>\n",
       "      <td>23.2717</td>\n",
       "      <td>24.80</td>\n",
       "      <td>4.61</td>\n",
       "    </tr>\n",
       "    <tr>\n",
       "      <th>9</th>\n",
       "      <td>albany</td>\n",
       "      <td>100</td>\n",
       "      <td>US</td>\n",
       "      <td>1618266928</td>\n",
       "      <td>78</td>\n",
       "      <td>42.6001</td>\n",
       "      <td>-73.9662</td>\n",
       "      <td>52.00</td>\n",
       "      <td>3.65</td>\n",
       "    </tr>\n",
       "  </tbody>\n",
       "</table>\n",
       "</div>"
      ],
      "text/plain": [
       "            City  Cloudiness Country        Date  Humidity      Lat       Lng  \\\n",
       "0          bluff         100      NZ  1618266886        95 -46.6000  168.3333   \n",
       "1         hobart          75      AU  1618266982        87 -42.8794  147.3294   \n",
       "2         manbij           0      SY  1618267153        87  36.5281   37.9549   \n",
       "3       hukuntsi           0      BW  1618267153        36 -24.0000   21.7500   \n",
       "4        tondano          20      ID  1618267154        94   1.3038  124.9112   \n",
       "5      belogorsk          55      RU  1618267154        55  50.9158  128.4611   \n",
       "6  half moon bay          50      LR  1618267009        87   6.3807  -10.6953   \n",
       "7          pevek         100      RU  1618267039        97  69.7008  170.3133   \n",
       "8  alta floresta          34      NO  1618267155        68  69.9689   23.2717   \n",
       "9         albany         100      US  1618266928        78  42.6001  -73.9662   \n",
       "\n",
       "   Max Temp  Wind Speed  \n",
       "0     54.00        1.99  \n",
       "1     46.99        6.91  \n",
       "2     37.40        5.75  \n",
       "3     69.13        8.97  \n",
       "4     75.20        1.97  \n",
       "5     21.58       15.43  \n",
       "6     79.99        5.57  \n",
       "7    -12.95        5.32  \n",
       "8     24.80        4.61  \n",
       "9     52.00        3.65  "
      ]
     },
     "execution_count": 9,
     "metadata": {},
     "output_type": "execute_result"
    }
   ],
   "source": [
    "weather_df = pd.DataFrame({ \n",
    "                \"City\" : city_list,\n",
    "                \"Cloudiness\" : cloudiness,\n",
    "                \"Country\" : country,\n",
    "                \"Date\" : date,\n",
    "                \"Humidity\" : humidity,\n",
    "                \"Lat\" : lat,\n",
    "                \"Lng\" : lng,\n",
    "                \"Max Temp\" : max_temp,\n",
    "                \"Wind Speed\" : wind_speed\n",
    "})\n",
    "\n",
    "weather_df.head(10)"
   ]
  },
  {
   "cell_type": "code",
   "execution_count": 10,
   "metadata": {},
   "outputs": [],
   "source": [
    "weather_df.to_csv(\"weather_df.csv\")"
   ]
  },
  {
   "cell_type": "markdown",
   "metadata": {},
   "source": [
    "## Inspect the data and remove the cities where the humidity > 100%.\n",
    "----\n",
    "Skip this step if there are no cities that have humidity > 100%. "
   ]
  },
  {
   "cell_type": "code",
   "execution_count": null,
   "metadata": {},
   "outputs": [],
   "source": []
  },
  {
   "cell_type": "code",
   "execution_count": 5,
   "metadata": {},
   "outputs": [],
   "source": [
    "#  Get the indices of cities that have humidity over 100%.\n"
   ]
  },
  {
   "cell_type": "code",
   "execution_count": 6,
   "metadata": {},
   "outputs": [],
   "source": [
    "# Make a new DataFrame equal to the city data to drop all humidity outliers by index.\n",
    "# Passing \"inplace=False\" will make a copy of the city_data DataFrame, which we call \"clean_city_data\".\n"
   ]
  },
  {
   "cell_type": "code",
   "execution_count": null,
   "metadata": {},
   "outputs": [],
   "source": [
    "\n"
   ]
  },
  {
   "cell_type": "markdown",
   "metadata": {},
   "source": [
    "## Plotting the Data\n",
    "* Use proper labeling of the plots using plot titles (including date of analysis) and axes labels.\n",
    "* Save the plotted figures as .pngs."
   ]
  },
  {
   "cell_type": "markdown",
   "metadata": {},
   "source": [
    "## Latitude vs. Temperature Plot"
   ]
  },
  {
   "cell_type": "code",
   "execution_count": 11,
   "metadata": {
    "scrolled": true
   },
   "outputs": [
    {
     "data": {
      "image/png": "[encoded data removed]",
      "text/plain": [
       "<Figure size 432x288 with 1 Axes>"
      ]
     },
     "metadata": {
      "needs_background": "light"
     },
     "output_type": "display_data"
    }
   ],
   "source": [
    "plt.scatter(weather_df[\"Lat\"], weather_df[\"Max Temp\"], marker = \"o\", facecolor = \"blue\", edgecolor = \"black\")\n",
    "\n",
    "plt.grid()\n",
    "\n",
    "plt.title(\"City Latitude vs. Max Temperature\")\n",
    "\n",
    "plt.xlabel(\"Latitude\")\n",
    "\n",
    "plt.ylabel(\"Max Temperature (F)\")\n",
    "\n",
    "plt.show()"
   ]
  },
  {
   "cell_type": "markdown",
   "metadata": {},
   "source": [
    "## Latitude vs. Humidity Plot"
   ]
  },
  {
   "cell_type": "code",
   "execution_count": 12,
   "metadata": {},
   "outputs": [
    {
     "data": {
      "image/png": "[encoded data removed]",
      "text/plain": [
       "<Figure size 432x288 with 1 Axes>"
      ]
     },
     "metadata": {
      "needs_background": "light"
     },
     "output_type": "display_data"
    }
   ],
   "source": [
    "plt.scatter(weather_df[\"Lat\"], weather_df[\"Humidity\"], marker = \"o\", color = \"blue\", edgecolor = \"black\")\n",
    "\n",
    "plt.grid()\n",
    "\n",
    "plt.title(\"City Latitude vs. Humidity\")\n",
    "\n",
    "plt.xlabel(\"Latitude\")\n",
    "\n",
    "plt.ylabel(\"Humidity(%)\")\n",
    "\n",
    "plt.show()"
   ]
  },
  {
   "cell_type": "markdown",
   "metadata": {},
   "source": [
    "## Latitude vs. Cloudiness Plot"
   ]
  },
  {
   "cell_type": "code",
   "execution_count": 13,
   "metadata": {},
   "outputs": [
    {
     "data": {
      "image/png": "[encoded data removed]",
      "text/plain": [
       "<Figure size 432x288 with 1 Axes>"
      ]
     },
     "metadata": {
      "needs_background": "light"
     },
     "output_type": "display_data"
    }
   ],
   "source": [
    "plt.scatter(weather_df[\"Lat\"], weather_df[\"Cloudiness\"], marker = \"o\", color = \"blue\", edgecolor = \"black\")\n",
    "\n",
    "plt.grid()\n",
    "\n",
    "plt.title(\"City Latitude vs. Cloudiness\")\n",
    "\n",
    "plt.xlabel(\"Latitude\")\n",
    "\n",
    "plt.ylabel(\"Cloudiness(%)\")\n",
    "\n",
    "plt.show()"
   ]
  },
  {
   "cell_type": "markdown",
   "metadata": {},
   "source": [
    "## Latitude vs. Wind Speed Plot"
   ]
  },
  {
   "cell_type": "code",
   "execution_count": 14,
   "metadata": {},
   "outputs": [
    {
     "data": {
      "image/png": "[encoded data removed]",
      "text/plain": [
       "<Figure size 432x288 with 1 Axes>"
      ]
     },
     "metadata": {
      "needs_background": "light"
     },
     "output_type": "display_data"
    }
   ],
   "source": [
    "plt.scatter(weather_df[\"Lat\"], weather_df[\"Wind Speed\"], marker = \"o\", color = \"blue\", edgecolor = \"black\")\n",
    "\n",
    "plt.grid()\n",
    "\n",
    "plt.title(\"City Latitude vs. Wind Speed\")\n",
    "\n",
    "plt.xlabel(\"Latitude\")\n",
    "\n",
    "plt.ylabel(\"Wind Speed(mph)\")\n",
    "\n",
    "plt.show()"
   ]
  },
  {
   "cell_type": "markdown",
   "metadata": {},
   "source": [
    "## Linear Regression"
   ]
  },
  {
   "cell_type": "code",
   "execution_count": 26,
   "metadata": {},
   "outputs": [],
   "source": [
    "northern_hemisphere = weather_df.loc[weather_df[\"Lat\"] >= 0]\n",
    "southern_hemisphere = weather_df.loc[weather_df[\"Lat\"] < 0]\n",
    "\n",
    "def linear_reg_plot(x,y):\n",
    "    print(f\"The r-squared is : {round(st.pearsonr(x, y)[0],2)}\")\n",
    "    (slope, intercept, rvalue, pvalue, stderr) = linregress(x, y)\n",
    "    regress_values = x * slope + intercept\n",
    "    line_eq = \"y = \" + str(round(slope,2)) + \"x + \" + str(round(intercept,2))\n",
    "    plt.scatter(x,y)\n",
    "    plt.plot(x,regress_values,\"r-\")\n",
    "    plt.annotate(line_eq,(x.median(),y.median()),fontsize=15,color=\"red\")"
   ]
  },
  {
   "cell_type": "markdown",
   "metadata": {},
   "source": [
    "####  Northern Hemisphere - Max Temp vs. Latitude Linear Regression"
   ]
  },
  {
   "cell_type": "code",
   "execution_count": 27,
   "metadata": {},
   "outputs": [
    {
     "name": "stdout",
     "output_type": "stream",
     "text": [
      "The r-squared is : -0.87\n",
      "None\n"
     ]
    },
    {
     "data": {
      "image/png": "[encoded data removed]",
      "text/plain": [
       "<Figure size 432x288 with 1 Axes>"
      ]
     },
     "metadata": {
      "needs_background": "light"
     },
     "output_type": "display_data"
    }
   ],
   "source": [
    "x_values = northern_hemisphere[\"Lat\"]\n",
    "\n",
    "y_values = northern_hemisphere[\"Max Temp\"]\n",
    "\n",
    "plt.xlabel(\"Latitude\")\n",
    "\n",
    "plt.ylabel(\"Max Temp (F)\")\n",
    "\n",
    "print(linear_reg_plot(x_values,y_values))"
   ]
  },
  {
   "cell_type": "markdown",
   "metadata": {},
   "source": [
    "####  Southern Hemisphere - Max Temp vs. Latitude Linear Regression"
   ]
  },
  {
   "cell_type": "code",
   "execution_count": 28,
   "metadata": {},
   "outputs": [
    {
     "name": "stdout",
     "output_type": "stream",
     "text": [
      "The r-squared is : 0.6\n",
      "None\n"
     ]
    },
    {
     "data": {
      "image/png": "[encoded data removed]",
      "text/plain": [
       "<Figure size 432x288 with 1 Axes>"
      ]
     },
     "metadata": {
      "needs_background": "light"
     },
     "output_type": "display_data"
    }
   ],
   "source": [
    "x_values = southern_hemisphere[\"Lat\"]\n",
    "\n",
    "y_values = southern_hemisphere[\"Max Temp\"]\n",
    "\n",
    "plt.xlabel(\"Latitude\")\n",
    "\n",
    "plt.ylabel(\"Max Temp (F)\")\n",
    "\n",
    "print(linear_reg_plot(x_values,y_values))"
   ]
  },
  {
   "cell_type": "markdown",
   "metadata": {},
   "source": [
    "####  Northern Hemisphere - Humidity (%) vs. Latitude Linear Regression"
   ]
  },
  {
   "cell_type": "code",
   "execution_count": 29,
   "metadata": {},
   "outputs": [
    {
     "name": "stdout",
     "output_type": "stream",
     "text": [
      "The r-squared is : 0.31\n",
      "None\n"
     ]
    },
    {
     "data": {
      "image/png": "[encoded data removed]",
      "text/plain": [
       "<Figure size 432x288 with 1 Axes>"
      ]
     },
     "metadata": {
      "needs_background": "light"
     },
     "output_type": "display_data"
    }
   ],
   "source": [
    "x_values = northern_hemisphere[\"Lat\"]\n",
    "\n",
    "y_values = northern_hemisphere[\"Humidity\"]\n",
    "\n",
    "plt.xlabel(\"Latitude\")\n",
    "\n",
    "plt.ylabel(\"Humidity (%)\")\n",
    "\n",
    "print(linear_reg_plot(x_values,y_values))"
   ]
  },
  {
   "cell_type": "markdown",
   "metadata": {},
   "source": [
    "####  Southern Hemisphere - Humidity (%) vs. Latitude Linear Regression"
   ]
  },
  {
   "cell_type": "code",
   "execution_count": 30,
   "metadata": {},
   "outputs": [
    {
     "name": "stdout",
     "output_type": "stream",
     "text": [
      "The r-squared is : 0.29\n",
      "None\n"
     ]
    },
    {
     "data": {
      "image/png": "[encoded data removed]",
      "text/plain": [
       "<Figure size 432x288 with 1 Axes>"
      ]
     },
     "metadata": {
      "needs_background": "light"
     },
     "output_type": "display_data"
    }
   ],
   "source": [
    "x_values = southern_hemisphere[\"Lat\"]\n",
    "\n",
    "y_values = southern_hemisphere[\"Humidity\"]\n",
    "\n",
    "plt.xlabel(\"Latitude\")\n",
    "\n",
    "plt.ylabel(\"Humidity (%)\")\n",
    "\n",
    "print(linear_reg_plot(x_values,y_values))"
   ]
  },
  {
   "cell_type": "markdown",
   "metadata": {},
   "source": [
    "####  Northern Hemisphere - Cloudiness (%) vs. Latitude Linear Regression"
   ]
  },
  {
   "cell_type": "code",
   "execution_count": 31,
   "metadata": {},
   "outputs": [
    {
     "name": "stdout",
     "output_type": "stream",
     "text": [
      "The r-squared is : 0.22\n",
      "None\n"
     ]
    },
    {
     "data": {
      "image/png": "[encoded data removed]",
      "text/plain": [
       "<Figure size 432x288 with 1 Axes>"
      ]
     },
     "metadata": {
      "needs_background": "light"
     },
     "output_type": "display_data"
    }
   ],
   "source": [
    "x_values = northern_hemisphere[\"Lat\"]\n",
    "\n",
    "y_values = northern_hemisphere[\"Cloudiness\"]\n",
    "\n",
    "plt.xlabel(\"Latitude\")\n",
    "\n",
    "plt.ylabel(\"Cloudiness (%)\")\n",
    "\n",
    "print(linear_reg_plot(x_values,y_values))"
   ]
  },
  {
   "cell_type": "markdown",
   "metadata": {},
   "source": [
    "####  Southern Hemisphere - Cloudiness (%) vs. Latitude Linear Regression"
   ]
  },
  {
   "cell_type": "code",
   "execution_count": 32,
   "metadata": {},
   "outputs": [
    {
     "name": "stdout",
     "output_type": "stream",
     "text": [
      "The r-squared is : 0.28\n",
      "None\n"
     ]
    },
    {
     "data": {
      "image/png": "[encoded data removed]",
      "text/plain": [
       "<Figure size 432x288 with 1 Axes>"
      ]
     },
     "metadata": {
      "needs_background": "light"
     },
     "output_type": "display_data"
    }
   ],
   "source": [
    "x_values = southern_hemisphere[\"Lat\"]\n",
    "\n",
    "y_values = southern_hemisphere[\"Cloudiness\"]\n",
    "\n",
    "plt.xlabel(\"Latitude\")\n",
    "\n",
    "plt.ylabel(\"Cloudiness (%)\")\n",
    "\n",
    "print(linear_reg_plot(x_values,y_values))"
   ]
  },
  {
   "cell_type": "markdown",
   "metadata": {},
   "source": [
    "####  Northern Hemisphere - Wind Speed (mph) vs. Latitude Linear Regression"
   ]
  },
  {
   "cell_type": "code",
   "execution_count": 33,
   "metadata": {},
   "outputs": [
    {
     "name": "stdout",
     "output_type": "stream",
     "text": [
      "The r-squared is : 0.19\n",
      "None\n"
     ]
    },
    {
     "data": {
      "image/png": "[encoded data removed]",
      "text/plain": [
       "<Figure size 432x288 with 1 Axes>"
      ]
     },
     "metadata": {
      "needs_background": "light"
     },
     "output_type": "display_data"
    }
   ],
   "source": [
    "x_values = northern_hemisphere[\"Lat\"]\n",
    "\n",
    "y_values = northern_hemisphere[\"Wind Speed\"]\n",
    "\n",
    "plt.xlabel(\"Latitude\")\n",
    "\n",
    "plt.ylabel(\"Wind Speed (mph)\")\n",
    "\n",
    "print(linear_reg_plot(x_values,y_values))"
   ]
  },
  {
   "cell_type": "markdown",
   "metadata": {},
   "source": [
    "####  Southern Hemisphere - Wind Speed (mph) vs. Latitude Linear Regression"
   ]
  },
  {
   "cell_type": "code",
   "execution_count": 34,
   "metadata": {},
   "outputs": [
    {
     "name": "stdout",
     "output_type": "stream",
     "text": [
      "The r-squared is : -0.09\n",
      "None\n"
     ]
    },
    {
     "data": {
      "image/png": "[encoded data removed]",
      "text/plain": [
       "<Figure size 432x288 with 1 Axes>"
      ]
     },
     "metadata": {
      "needs_background": "light"
     },
     "output_type": "display_data"
    }
   ],
   "source": [
    "x_values = southern_hemisphere[\"Lat\"]\n",
    "\n",
    "y_values = southern_hemisphere[\"Wind Speed\"]\n",
    "\n",
    "plt.xlabel(\"Latitude\")\n",
    "\n",
    "plt.ylabel(\"Wind Speed (mph)\")\n",
    "\n",
    "print(linear_reg_plot(x_values,y_values))"
   ]
  },
  {
   "cell_type": "code",
   "execution_count": null,
   "metadata": {},
   "outputs": [],
   "source": []
  }
 ],
 "metadata": {
  "anaconda-cloud": {},
  "kernel_info": {
   "name": "python3"
  },
  "kernelspec": {
   "display_name": "Python 3",
   "language": "python",
   "name": "python3"
  },
  "language_info": {
   "codemirror_mode": {
    "name": "ipython",
    "version": 3
   },
   "file_extension": ".py",
   "mimetype": "text/x-python",
   "name": "python",
   "nbconvert_exporter": "python",
   "pygments_lexer": "ipython3",
   "version": "3.8.5"
  },
  "latex_envs": {
   "LaTeX_envs_menu_present": true,
   "autoclose": false,
   "autocomplete": true,
   "bibliofile": "biblio.bib",
   "cite_by": "apalike",
   "current_citInitial": 1,
   "eqLabelWithNumbers": true,
   "eqNumInitial": 1,
   "hotkeys": {
    "equation": "Ctrl-E",
    "itemize": "Ctrl-I"
   },
   "labels_anchors": false,
   "latex_user_defs": false,
   "report_style_numbering": false,
   "user_envs_cfg": false
  },
  "nteract": {
   "version": "0.12.3"
  }
 },
 "nbformat": 4,
 "nbformat_minor": 2
}
