{
 "cells": [
  {
   "cell_type": "markdown",
   "metadata": {},
   "source": [
    "# WeatherPy\n",
    "----\n",
    "\n",
    "#### Note\n",
    "* Instructions have been included for each segment. You do not have to follow them exactly, but they are included to help you think through the steps."
   ]
  },
  {
   "cell_type": "code",
   "execution_count": 1,
   "metadata": {
    "scrolled": true
   },
   "outputs": [],
   "source": [
    "# Dependencies and Setup\n",
    "import matplotlib.pyplot as plt\n",
    "import pandas as pd\n",
    "import numpy as np\n",
    "import requests\n",
    "import time\n",
    "import json\n",
    "import scipy.stats as st\n",
    "from scipy.stats import linregress\n",
    "\n",
    "# Import API key\n",
    "from api_keys import weather_api_key\n",
    "\n",
    "# Incorporated citipy to determine city based on latitude and longitude\n",
    "from citipy import citipy\n",
    "\n",
    "# Output File (CSV)\n",
    "output_data_file = \"../code/Homework/06-Python-APIs/Instructions/output_data/cities.csv\"\n",
    "\n",
    "# Range of latitudes and longitudes\n",
    "lat_range = (-90, 90)\n",
    "lng_range = (-180, 180)"
   ]
  },
  {
   "cell_type": "markdown",
   "metadata": {},
   "source": [
    "## Generate Cities List"
   ]
  },
  {
   "cell_type": "code",
   "execution_count": 2,
   "metadata": {},
   "outputs": [
    {
     "data": {
      "text/plain": [
       "611"
      ]
     },
     "execution_count": 2,
     "metadata": {},
     "output_type": "execute_result"
    }
   ],
   "source": [
    "# List for holding lat_lngs and cities\n",
    "lat_lngs = []\n",
    "cities = []\n",
    "\n",
    "# Create a set of random lat and lng combinations\n",
    "lats = np.random.uniform(lat_range[0], lat_range[1], size=1500)\n",
    "lngs = np.random.uniform(lng_range[0], lng_range[1], size=1500)\n",
    "lat_lngs = zip(lats, lngs)\n",
    "\n",
    "# Identify nearest city for each lat, lng combination\n",
    "for lat_lng in lat_lngs:\n",
    "    city = citipy.nearest_city(lat_lng[0], lat_lng[1]).city_name\n",
    "    \n",
    "    # If the city is unique, then add it to a our cities list\n",
    "    if city not in cities:\n",
    "        cities.append(city)\n",
    "\n",
    "# Print the city count to confirm sufficient count\n",
    "len(cities)"
   ]
  },
  {
   "cell_type": "markdown",
   "metadata": {},
   "source": [
    "### Perform API Calls\n",
    "* Perform a weather check on each city using a series of successive API calls.\n",
    "* Include a print log of each city as it'sbeing processed (with the city number and city name).\n"
   ]
  },
  {
   "cell_type": "code",
   "execution_count": 3,
   "metadata": {
    "scrolled": true
   },
   "outputs": [
    {
     "name": "stdout",
     "output_type": "stream",
     "text": [
      "Processing Record 1 of Set 1 | mataura\n",
      "Processing Record 2 of Set 1 | albany\n",
      "Processing Record 3 of Set 1 | anar darreh\n",
      "Processing Record 4 of Set 1 | jamestown\n",
      "Processing Record 5 of Set 1 | ginir\n",
      "Processing Record 6 of Set 1 | barghat\n",
      "Processing Record 7 of Set 1 | fortuna\n",
      "Processing Record 8 of Set 1 | labuhan\n",
      "Processing Record 9 of Set 1 | ixtapa\n",
      "Processing Record 10 of Set 1 | ordynskoye\n",
      "Processing Record 11 of Set 1 | rikitea\n",
      "Processing Record 12 of Set 1 | khani\n",
      "Processing Record 13 of Set 1 | caravelas\n",
      "Processing Record 14 of Set 1 | hilo\n",
      "Processing Record 15 of Set 1 | ponta do sol\n",
      "CITY NOT FOUND. SKIPPING...\n",
      "Processing Record 16 of Set 1 | sitka\n",
      "Processing Record 17 of Set 1 | lorengau\n",
      "Processing Record 18 of Set 1 | hay river\n",
      "Processing Record 19 of Set 1 | vaini\n",
      "Processing Record 20 of Set 1 | gubkinskiy\n",
      "Processing Record 21 of Set 1 | bredasdorp\n",
      "Processing Record 22 of Set 1 | shirokiy\n",
      "Processing Record 23 of Set 1 | mahebourg\n",
      "Processing Record 24 of Set 1 | ushuaia\n",
      "Processing Record 25 of Set 1 | new norfolk\n",
      "Processing Record 26 of Set 1 | cape town\n",
      "Processing Record 27 of Set 1 | ondjiva\n",
      "Processing Record 28 of Set 1 | narsaq\n",
      "Processing Record 29 of Set 1 | butaritari\n",
      "Processing Record 30 of Set 1 | vardo\n",
      "Processing Record 31 of Set 1 | saskylakh\n",
      "Processing Record 32 of Set 1 | meulaboh\n",
      "Processing Record 33 of Set 1 | sioux lookout\n",
      "Processing Record 34 of Set 1 | mar del plata\n",
      "CITY NOT FOUND. SKIPPING...\n",
      "Processing Record 35 of Set 1 | bogorodskoye\n",
      "Processing Record 36 of Set 1 | xichang\n",
      "Processing Record 37 of Set 1 | mombaca\n",
      "Processing Record 38 of Set 1 | qaanaaq\n",
      "Processing Record 39 of Set 1 | pevek\n",
      "Processing Record 40 of Set 1 | busselton\n",
      "Processing Record 41 of Set 1 | ribeira grande\n",
      "Processing Record 42 of Set 1 | atuona\n",
      "CITY NOT FOUND. SKIPPING...\n",
      "Processing Record 43 of Set 1 | punta arenas\n",
      "CITY NOT FOUND. SKIPPING...\n",
      "CITY NOT FOUND. SKIPPING...\n",
      "Processing Record 44 of Set 1 | eenhana\n",
      "Processing Record 45 of Set 1 | nikolskoye\n",
      "Processing Record 46 of Set 1 | hasaki\n",
      "Processing Record 47 of Set 1 | mys shmidta\n",
      "Processing Record 48 of Set 1 | monforte de lemos\n",
      "CITY NOT FOUND. SKIPPING...\n",
      "Processing Record 49 of Set 1 | manggar\n",
      "Processing Record 1 of Set 2 | georgetown\n",
      "Processing Record 2 of Set 2 | chkalovskoye\n",
      "CITY NOT FOUND. SKIPPING...\n",
      "Processing Record 3 of Set 2 | alta floresta\n",
      "Processing Record 4 of Set 2 | tiksi\n",
      "Processing Record 5 of Set 2 | trincomalee\n",
      "Processing Record 6 of Set 2 | kisangani\n",
      "Processing Record 7 of Set 2 | kalmunai\n",
      "Processing Record 8 of Set 2 | bathsheba\n",
      "Processing Record 9 of Set 2 | kodiak\n",
      "Processing Record 10 of Set 2 | laguna\n",
      "Processing Record 11 of Set 2 | lagoa\n",
      "CITY NOT FOUND. SKIPPING...\n",
      "Processing Record 12 of Set 2 | fereydunshahr\n",
      "Processing Record 13 of Set 2 | owando\n",
      "Processing Record 14 of Set 2 | macamic\n",
      "Processing Record 15 of Set 2 | saldanha\n",
      "Processing Record 16 of Set 2 | chara\n",
      "Processing Record 17 of Set 2 | clarksville\n",
      "Processing Record 18 of Set 2 | hermanus\n",
      "Processing Record 19 of Set 2 | waipawa\n",
      "Processing Record 20 of Set 2 | norman wells\n",
      "CITY NOT FOUND. SKIPPING...\n",
      "Processing Record 21 of Set 2 | coihaique\n",
      "Processing Record 22 of Set 2 | sakaiminato\n",
      "Processing Record 23 of Set 2 | kaitangata\n",
      "Processing Record 24 of Set 2 | san cristobal\n",
      "Processing Record 25 of Set 2 | tuktoyaktuk\n",
      "Processing Record 26 of Set 2 | yurga\n",
      "Processing Record 27 of Set 2 | genhe\n",
      "Processing Record 28 of Set 2 | port elizabeth\n",
      "Processing Record 29 of Set 2 | mabaruma\n",
      "Processing Record 30 of Set 2 | ilulissat\n",
      "Processing Record 31 of Set 2 | ridgecrest\n",
      "Processing Record 32 of Set 2 | klaksvik\n",
      "Processing Record 33 of Set 2 | nejdek\n",
      "Processing Record 34 of Set 2 | port-gentil\n",
      "Processing Record 35 of Set 2 | touros\n",
      "Processing Record 36 of Set 2 | mbandaka\n",
      "Processing Record 37 of Set 2 | ballina\n",
      "Processing Record 38 of Set 2 | lakes entrance\n",
      "Processing Record 39 of Set 2 | armacao de pera\n",
      "Processing Record 40 of Set 2 | lavrentiya\n",
      "Processing Record 41 of Set 2 | puerto ayora\n",
      "Processing Record 42 of Set 2 | lebu\n",
      "CITY NOT FOUND. SKIPPING...\n",
      "Processing Record 43 of Set 2 | mahajanga\n",
      "Processing Record 44 of Set 2 | sharlyk\n",
      "Processing Record 45 of Set 2 | tokmak\n",
      "Processing Record 46 of Set 2 | karpathos\n",
      "CITY NOT FOUND. SKIPPING...\n",
      "Processing Record 47 of Set 2 | carnarvon\n",
      "Processing Record 48 of Set 2 | vero beach\n",
      "Processing Record 49 of Set 2 | rosarito\n",
      "Processing Record 1 of Set 3 | dinga\n",
      "Processing Record 2 of Set 3 | balykshi\n",
      "CITY NOT FOUND. SKIPPING...\n",
      "Processing Record 3 of Set 3 | geraldton\n",
      "Processing Record 4 of Set 3 | conde\n",
      "Processing Record 5 of Set 3 | kondinskoye\n",
      "Processing Record 6 of Set 3 | itaituba\n",
      "Processing Record 7 of Set 3 | kladovo\n",
      "Processing Record 8 of Set 3 | westport\n",
      "Processing Record 9 of Set 3 | avera\n",
      "Processing Record 10 of Set 3 | nanortalik\n",
      "CITY NOT FOUND. SKIPPING...\n",
      "Processing Record 11 of Set 3 | oda\n",
      "Processing Record 12 of Set 3 | arraial do cabo\n",
      "CITY NOT FOUND. SKIPPING...\n",
      "Processing Record 13 of Set 3 | magadan\n",
      "Processing Record 14 of Set 3 | severo-kurilsk\n",
      "Processing Record 15 of Set 3 | kuusamo\n",
      "Processing Record 16 of Set 3 | dicabisagan\n",
      "Processing Record 17 of Set 3 | bitung\n",
      "Processing Record 18 of Set 3 | kargasok\n",
      "Processing Record 19 of Set 3 | tezu\n",
      "Processing Record 20 of Set 3 | uturoa\n",
      "Processing Record 21 of Set 3 | newport\n",
      "Processing Record 22 of Set 3 | livingstone\n",
      "Processing Record 23 of Set 3 | rawson\n",
      "Processing Record 24 of Set 3 | longyearbyen\n",
      "Processing Record 25 of Set 3 | soyo\n",
      "Processing Record 26 of Set 3 | aswan\n",
      "Processing Record 27 of Set 3 | merritt island\n",
      "Processing Record 28 of Set 3 | tramandai\n",
      "Processing Record 29 of Set 3 | moron\n",
      "CITY NOT FOUND. SKIPPING...\n",
      "Processing Record 30 of Set 3 | barreiras\n",
      "Processing Record 31 of Set 3 | qasigiannguit\n",
      "Processing Record 32 of Set 3 | plettenberg bay\n",
      "Processing Record 33 of Set 3 | khasan\n",
      "Processing Record 34 of Set 3 | antigonish\n",
      "Processing Record 35 of Set 3 | hithadhoo\n",
      "Processing Record 36 of Set 3 | bluff\n",
      "Processing Record 37 of Set 3 | saint-philippe\n",
      "Processing Record 38 of Set 3 | evensk\n",
      "Processing Record 39 of Set 3 | pangnirtung\n",
      "Processing Record 40 of Set 3 | souillac\n",
      "Processing Record 41 of Set 3 | chokwe\n",
      "Processing Record 42 of Set 3 | ambulu\n",
      "CITY NOT FOUND. SKIPPING...\n",
      "CITY NOT FOUND. SKIPPING...\n",
      "Processing Record 43 of Set 3 | olinda\n",
      "Processing Record 44 of Set 3 | grand gaube\n",
      "Processing Record 45 of Set 3 | afua\n",
      "Processing Record 46 of Set 3 | rincon\n",
      "Processing Record 47 of Set 3 | muros\n",
      "Processing Record 48 of Set 3 | hobyo\n",
      "Processing Record 49 of Set 3 | kapaa\n",
      "Processing Record 1 of Set 4 | puerto maldonado\n",
      "Processing Record 2 of Set 4 | matay\n",
      "Processing Record 3 of Set 4 | ambilobe\n",
      "Processing Record 4 of Set 4 | fuengirola\n",
      "Processing Record 5 of Set 4 | port macquarie\n",
      "Processing Record 6 of Set 4 | salalah\n",
      "Processing Record 7 of Set 4 | chihuahua\n",
      "Processing Record 8 of Set 4 | jibuti\n",
      "Processing Record 9 of Set 4 | dikson\n",
      "Processing Record 10 of Set 4 | hobart\n",
      "Processing Record 11 of Set 4 | avarua\n",
      "Processing Record 12 of Set 4 | dharchula\n",
      "Processing Record 13 of Set 4 | puerto escondido\n",
      "Processing Record 14 of Set 4 | kedrovyy\n",
      "CITY NOT FOUND. SKIPPING...\n",
      "Processing Record 15 of Set 4 | ewa beach\n",
      "Processing Record 16 of Set 4 | terrace bay\n",
      "Processing Record 17 of Set 4 | holme\n",
      "Processing Record 18 of Set 4 | hualmay\n",
      "Processing Record 19 of Set 4 | ostrovnoy\n",
      "Processing Record 20 of Set 4 | barrow\n",
      "Processing Record 21 of Set 4 | ruteng\n",
      "Processing Record 22 of Set 4 | sola\n",
      "Processing Record 23 of Set 4 | haines junction\n",
      "Processing Record 24 of Set 4 | soe\n",
      "Processing Record 25 of Set 4 | georgiyevka\n",
      "Processing Record 26 of Set 4 | panalingaan\n",
      "Processing Record 27 of Set 4 | bethel\n",
      "Processing Record 28 of Set 4 | magrath\n",
      "Processing Record 29 of Set 4 | chimore\n",
      "Processing Record 30 of Set 4 | faya\n",
      "Processing Record 31 of Set 4 | merke\n",
      "Processing Record 32 of Set 4 | faanui\n",
      "Processing Record 33 of Set 4 | asau\n",
      "Processing Record 34 of Set 4 | mollendo\n",
      "Processing Record 35 of Set 4 | naze\n",
      "Processing Record 36 of Set 4 | hambantota\n",
      "Processing Record 37 of Set 4 | castro\n",
      "Processing Record 38 of Set 4 | maniitsoq\n",
      "Processing Record 39 of Set 4 | gilbues\n",
      "Processing Record 40 of Set 4 | caxias\n",
      "Processing Record 41 of Set 4 | rio gallegos\n"
     ]
    },
    {
     "name": "stdout",
     "output_type": "stream",
     "text": [
      "CITY NOT FOUND. SKIPPING...\n",
      "Processing Record 42 of Set 4 | alofi\n",
      "Processing Record 43 of Set 4 | guerrero negro\n",
      "Processing Record 44 of Set 4 | ambunti\n",
      "Processing Record 45 of Set 4 | vila velha\n",
      "Processing Record 46 of Set 4 | kinsale\n",
      "Processing Record 47 of Set 4 | bonthe\n",
      "Processing Record 48 of Set 4 | kavieng\n",
      "Processing Record 49 of Set 4 | khatanga\n",
      "Processing Record 1 of Set 5 | gurupi\n",
      "Processing Record 2 of Set 5 | port alfred\n",
      "Processing Record 3 of Set 5 | kavaratti\n",
      "Processing Record 4 of Set 5 | mehamn\n",
      "Processing Record 5 of Set 5 | tanete\n",
      "Processing Record 6 of Set 5 | tommot\n",
      "Processing Record 7 of Set 5 | jiaozuo\n",
      "CITY NOT FOUND. SKIPPING...\n",
      "Processing Record 8 of Set 5 | san bernardo\n",
      "Processing Record 9 of Set 5 | victoria\n",
      "Processing Record 10 of Set 5 | thompson\n",
      "Processing Record 11 of Set 5 | san patricio\n",
      "Processing Record 12 of Set 5 | clyde river\n",
      "Processing Record 13 of Set 5 | dingle\n",
      "Processing Record 14 of Set 5 | mayumba\n",
      "Processing Record 15 of Set 5 | vagur\n",
      "Processing Record 16 of Set 5 | katobu\n",
      "Processing Record 17 of Set 5 | katsuura\n",
      "Processing Record 18 of Set 5 | luwuk\n",
      "Processing Record 19 of Set 5 | doha\n",
      "Processing Record 20 of Set 5 | niihama\n",
      "CITY NOT FOUND. SKIPPING...\n",
      "CITY NOT FOUND. SKIPPING...\n",
      "Processing Record 21 of Set 5 | timbiqui\n",
      "Processing Record 22 of Set 5 | mocsa\n",
      "Processing Record 23 of Set 5 | ust-nera\n",
      "Processing Record 24 of Set 5 | tasiilaq\n",
      "Processing Record 25 of Set 5 | noumea\n",
      "Processing Record 26 of Set 5 | arkhara\n",
      "Processing Record 27 of Set 5 | chokurdakh\n",
      "Processing Record 28 of Set 5 | east london\n",
      "Processing Record 29 of Set 5 | ahuimanu\n",
      "Processing Record 30 of Set 5 | sulangan\n",
      "Processing Record 31 of Set 5 | helong\n",
      "CITY NOT FOUND. SKIPPING...\n",
      "Processing Record 32 of Set 5 | grindavik\n",
      "Processing Record 33 of Set 5 | kirakira\n",
      "Processing Record 34 of Set 5 | svetlogorsk\n",
      "Processing Record 35 of Set 5 | balaipungut\n",
      "Processing Record 36 of Set 5 | olafsvik\n",
      "Processing Record 37 of Set 5 | oshkosh\n",
      "Processing Record 38 of Set 5 | tiarei\n",
      "Processing Record 39 of Set 5 | chuy\n",
      "Processing Record 40 of Set 5 | bambous virieux\n",
      "CITY NOT FOUND. SKIPPING...\n",
      "Processing Record 41 of Set 5 | hare bay\n",
      "Processing Record 42 of Set 5 | bengkulu\n",
      "Processing Record 43 of Set 5 | constitucion\n",
      "Processing Record 44 of Set 5 | sao gabriel da cachoeira\n",
      "Processing Record 45 of Set 5 | ouahigouya\n",
      "Processing Record 46 of Set 5 | otane\n",
      "Processing Record 47 of Set 5 | urumqi\n",
      "Processing Record 48 of Set 5 | payakumbuh\n",
      "Processing Record 49 of Set 5 | codrington\n",
      "Processing Record 1 of Set 6 | sari\n",
      "Processing Record 2 of Set 6 | erzin\n",
      "Processing Record 3 of Set 6 | asosa\n",
      "CITY NOT FOUND. SKIPPING...\n",
      "Processing Record 4 of Set 6 | olovyannaya\n",
      "Processing Record 5 of Set 6 | banjar\n",
      "Processing Record 6 of Set 6 | airai\n",
      "Processing Record 7 of Set 6 | spencer\n",
      "Processing Record 8 of Set 6 | provideniya\n",
      "Processing Record 9 of Set 6 | port maria\n",
      "CITY NOT FOUND. SKIPPING...\n",
      "Processing Record 10 of Set 6 | cidreira\n",
      "Processing Record 11 of Set 6 | vao\n",
      "Processing Record 12 of Set 6 | santa rosa de viterbo\n",
      "Processing Record 13 of Set 6 | urusha\n",
      "Processing Record 14 of Set 6 | vila franca do campo\n",
      "Processing Record 15 of Set 6 | tautira\n",
      "Processing Record 16 of Set 6 | auki\n",
      "Processing Record 17 of Set 6 | itarema\n",
      "Processing Record 18 of Set 6 | cabo san lucas\n",
      "Processing Record 19 of Set 6 | jacareacanga\n",
      "Processing Record 20 of Set 6 | ussel\n",
      "CITY NOT FOUND. SKIPPING...\n",
      "Processing Record 21 of Set 6 | cockburn town\n",
      "Processing Record 22 of Set 6 | mocuba\n",
      "Processing Record 23 of Set 6 | angoche\n",
      "CITY NOT FOUND. SKIPPING...\n",
      "Processing Record 24 of Set 6 | baffa\n",
      "Processing Record 25 of Set 6 | eureka\n",
      "Processing Record 26 of Set 6 | banyo\n",
      "Processing Record 27 of Set 6 | shawnee\n",
      "Processing Record 28 of Set 6 | camacupa\n",
      "Processing Record 29 of Set 6 | surgut\n",
      "Processing Record 30 of Set 6 | omaruru\n",
      "Processing Record 31 of Set 6 | gat\n",
      "CITY NOT FOUND. SKIPPING...\n",
      "Processing Record 32 of Set 6 | prince george\n",
      "Processing Record 33 of Set 6 | angoram\n",
      "Processing Record 34 of Set 6 | gazanjyk\n",
      "Processing Record 35 of Set 6 | hastings\n",
      "CITY NOT FOUND. SKIPPING...\n",
      "Processing Record 36 of Set 6 | crateus\n",
      "CITY NOT FOUND. SKIPPING...\n",
      "Processing Record 37 of Set 6 | watertown\n",
      "Processing Record 38 of Set 6 | marsa matruh\n",
      "Processing Record 39 of Set 6 | esfarayen\n",
      "Processing Record 40 of Set 6 | banepa\n",
      "CITY NOT FOUND. SKIPPING...\n",
      "Processing Record 41 of Set 6 | kutum\n",
      "Processing Record 42 of Set 6 | yinchuan\n",
      "CITY NOT FOUND. SKIPPING...\n",
      "CITY NOT FOUND. SKIPPING...\n",
      "Processing Record 43 of Set 6 | ystad\n",
      "Processing Record 44 of Set 6 | luanda\n",
      "Processing Record 45 of Set 6 | solnechnyy\n",
      "Processing Record 46 of Set 6 | isilkul\n",
      "Processing Record 47 of Set 6 | joniskis\n",
      "Processing Record 48 of Set 6 | nizwa\n",
      "CITY NOT FOUND. SKIPPING...\n",
      "Processing Record 49 of Set 6 | yaan\n",
      "Processing Record 1 of Set 7 | teluknaga\n",
      "Processing Record 2 of Set 7 | mahibadhoo\n",
      "CITY NOT FOUND. SKIPPING...\n",
      "Processing Record 3 of Set 7 | richards bay\n",
      "Processing Record 4 of Set 7 | tomatlan\n",
      "Processing Record 5 of Set 7 | gainesville\n",
      "Processing Record 6 of Set 7 | husavik\n",
      "Processing Record 7 of Set 7 | rumonge\n",
      "Processing Record 8 of Set 7 | horsham\n",
      "Processing Record 9 of Set 7 | cheltenham\n",
      "Processing Record 10 of Set 7 | teknaf\n",
      "Processing Record 11 of Set 7 | omsukchan\n",
      "Processing Record 12 of Set 7 | kingsville\n",
      "Processing Record 13 of Set 7 | hamilton\n",
      "CITY NOT FOUND. SKIPPING...\n",
      "Processing Record 14 of Set 7 | iqaluit\n",
      "CITY NOT FOUND. SKIPPING...\n",
      "Processing Record 15 of Set 7 | upernavik\n",
      "Processing Record 16 of Set 7 | lompoc\n",
      "Processing Record 17 of Set 7 | san jose\n",
      "Processing Record 18 of Set 7 | sao joao dos patos\n",
      "Processing Record 19 of Set 7 | mantua\n",
      "Processing Record 20 of Set 7 | dunedin\n",
      "Processing Record 21 of Set 7 | san quintin\n",
      "Processing Record 22 of Set 7 | churapcha\n",
      "Processing Record 23 of Set 7 | wamba\n",
      "Processing Record 24 of Set 7 | nizhniy odes\n",
      "Processing Record 25 of Set 7 | nassau\n",
      "Processing Record 26 of Set 7 | davila\n",
      "Processing Record 27 of Set 7 | dzitas\n",
      "Processing Record 28 of Set 7 | fairbanks\n",
      "Processing Record 29 of Set 7 | byron bay\n",
      "Processing Record 30 of Set 7 | yellowknife\n",
      "CITY NOT FOUND. SKIPPING...\n",
      "Processing Record 31 of Set 7 | saint-joseph\n",
      "Processing Record 32 of Set 7 | esperance\n",
      "Processing Record 33 of Set 7 | grand forks\n",
      "Processing Record 34 of Set 7 | svetlyy\n",
      "Processing Record 35 of Set 7 | raga\n",
      "Processing Record 36 of Set 7 | adrar\n",
      "Processing Record 37 of Set 7 | isangel\n",
      "Processing Record 38 of Set 7 | fort nelson\n",
      "Processing Record 39 of Set 7 | poum\n",
      "Processing Record 40 of Set 7 | santomera\n",
      "Processing Record 41 of Set 7 | formoso do araguaia\n",
      "Processing Record 42 of Set 7 | nicoya\n",
      "Processing Record 43 of Set 7 | ossora\n",
      "Processing Record 44 of Set 7 | manicore\n",
      "Processing Record 45 of Set 7 | cheremisinovo\n",
      "Processing Record 46 of Set 7 | tivaouane\n",
      "Processing Record 47 of Set 7 | port hardy\n",
      "Processing Record 48 of Set 7 | leningradskiy\n",
      "Processing Record 49 of Set 7 | sajanan\n",
      "Processing Record 1 of Set 8 | arkhangelskoye\n",
      "CITY NOT FOUND. SKIPPING...\n",
      "Processing Record 2 of Set 8 | simao dias\n",
      "Processing Record 3 of Set 8 | kleive\n",
      "Processing Record 4 of Set 8 | anta\n",
      "Processing Record 5 of Set 8 | korla\n",
      "Processing Record 6 of Set 8 | sao filipe\n",
      "Processing Record 7 of Set 8 | alice springs\n",
      "Processing Record 8 of Set 8 | batagay\n",
      "Processing Record 9 of Set 8 | hazorasp\n",
      "Processing Record 10 of Set 8 | hovd\n",
      "CITY NOT FOUND. SKIPPING...\n",
      "Processing Record 11 of Set 8 | popondetta\n",
      "Processing Record 12 of Set 8 | humboldt\n",
      "Processing Record 13 of Set 8 | mount isa\n",
      "Processing Record 14 of Set 8 | bilibino\n",
      "Processing Record 15 of Set 8 | sokoto\n",
      "Processing Record 16 of Set 8 | kenai\n",
      "Processing Record 17 of Set 8 | ponta pora\n",
      "Processing Record 18 of Set 8 | codajas\n",
      "Processing Record 19 of Set 8 | tynda\n",
      "Processing Record 20 of Set 8 | port blair\n",
      "Processing Record 21 of Set 8 | smoky lake\n",
      "Processing Record 22 of Set 8 | port lincoln\n",
      "Processing Record 23 of Set 8 | barcelona\n",
      "Processing Record 24 of Set 8 | sorland\n",
      "Processing Record 25 of Set 8 | olga\n",
      "Processing Record 26 of Set 8 | preveza\n",
      "Processing Record 27 of Set 8 | elizabeth city\n",
      "Processing Record 28 of Set 8 | nadym\n",
      "Processing Record 29 of Set 8 | goedereede\n"
     ]
    },
    {
     "name": "stdout",
     "output_type": "stream",
     "text": [
      "Processing Record 30 of Set 8 | talaya\n",
      "Processing Record 31 of Set 8 | borovoy\n",
      "Processing Record 32 of Set 8 | hongjiang\n",
      "Processing Record 33 of Set 8 | kollam\n",
      "CITY NOT FOUND. SKIPPING...\n",
      "Processing Record 34 of Set 8 | broome\n",
      "Processing Record 35 of Set 8 | orotukan\n",
      "Processing Record 36 of Set 8 | verkhnyaya toyma\n",
      "Processing Record 37 of Set 8 | siocon\n",
      "Processing Record 38 of Set 8 | saint-raymond\n",
      "Processing Record 39 of Set 8 | yuncheng\n",
      "Processing Record 40 of Set 8 | sorong\n",
      "CITY NOT FOUND. SKIPPING...\n",
      "Processing Record 41 of Set 8 | maningrida\n",
      "Processing Record 42 of Set 8 | pelym\n",
      "Processing Record 43 of Set 8 | clearwater\n",
      "Processing Record 44 of Set 8 | sisimiut\n",
      "Processing Record 45 of Set 8 | mnogovershinnyy\n",
      "Processing Record 46 of Set 8 | komsomolskiy\n",
      "Processing Record 47 of Set 8 | del rio\n",
      "Processing Record 48 of Set 8 | kaeo\n",
      "Processing Record 49 of Set 8 | pacific grove\n",
      "Processing Record 1 of Set 9 | koumac\n",
      "Processing Record 2 of Set 9 | atar\n",
      "Processing Record 3 of Set 9 | razole\n",
      "Processing Record 4 of Set 9 | anchorage\n",
      "Processing Record 5 of Set 9 | easton\n",
      "Processing Record 6 of Set 9 | nizhniy ingash\n",
      "Processing Record 7 of Set 9 | weligama\n",
      "Processing Record 8 of Set 9 | ukiah\n",
      "Processing Record 9 of Set 9 | marzuq\n",
      "Processing Record 10 of Set 9 | kamenka\n",
      "Processing Record 11 of Set 9 | zima\n",
      "Processing Record 12 of Set 9 | chicama\n",
      "Processing Record 13 of Set 9 | jinchang\n",
      "Processing Record 14 of Set 9 | cherskiy\n",
      "Processing Record 15 of Set 9 | yeppoon\n",
      "Processing Record 16 of Set 9 | mount gambier\n",
      "Processing Record 17 of Set 9 | sao miguel\n",
      "Processing Record 18 of Set 9 | banda\n",
      "Processing Record 19 of Set 9 | mareeba\n",
      "Processing Record 20 of Set 9 | antalaha\n",
      "Processing Record 21 of Set 9 | vera cruz\n",
      "Processing Record 22 of Set 9 | torbay\n",
      "Processing Record 23 of Set 9 | gamba\n",
      "CITY NOT FOUND. SKIPPING...\n",
      "Processing Record 24 of Set 9 | itamaraju\n",
      "Processing Record 25 of Set 9 | kalengwa\n",
      "Processing Record 26 of Set 9 | tilichiki\n",
      "Processing Record 27 of Set 9 | wanning\n",
      "Processing Record 28 of Set 9 | nemuro\n",
      "Processing Record 29 of Set 9 | alfonsine\n",
      "Processing Record 30 of Set 9 | san roque\n",
      "Processing Record 31 of Set 9 | dar es salaam\n",
      "Processing Record 32 of Set 9 | manono\n",
      "Processing Record 33 of Set 9 | ballitoville\n",
      "Processing Record 34 of Set 9 | kayerkan\n",
      "Processing Record 35 of Set 9 | talnakh\n",
      "CITY NOT FOUND. SKIPPING...\n",
      "Processing Record 36 of Set 9 | accra\n",
      "CITY NOT FOUND. SKIPPING...\n",
      "Processing Record 37 of Set 9 | beloha\n",
      "Processing Record 38 of Set 9 | chengde\n",
      "Processing Record 39 of Set 9 | khandyga\n",
      "Processing Record 40 of Set 9 | puerto colombia\n",
      "Processing Record 41 of Set 9 | visby\n",
      "Processing Record 42 of Set 9 | qaqortoq\n",
      "Processing Record 43 of Set 9 | sur\n",
      "CITY NOT FOUND. SKIPPING...\n",
      "CITY NOT FOUND. SKIPPING...\n",
      "Processing Record 44 of Set 9 | huilong\n",
      "Processing Record 45 of Set 9 | nuoro\n",
      "Processing Record 46 of Set 9 | santa rosa\n",
      "Processing Record 47 of Set 9 | ivanivka\n",
      "Processing Record 48 of Set 9 | kalabo\n",
      "CITY NOT FOUND. SKIPPING...\n",
      "Processing Record 49 of Set 9 | rio grande\n",
      "Processing Record 1 of Set 10 | carutapera\n",
      "Processing Record 2 of Set 10 | montivilliers\n",
      "Processing Record 3 of Set 10 | bubaque\n",
      "Processing Record 4 of Set 10 | badin\n",
      "Processing Record 5 of Set 10 | chapais\n",
      "Processing Record 6 of Set 10 | tukrah\n",
      "Processing Record 7 of Set 10 | vestmannaeyjar\n",
      "Processing Record 8 of Set 10 | bilma\n",
      "Processing Record 9 of Set 10 | dhule\n",
      "Processing Record 10 of Set 10 | kismayo\n",
      "Processing Record 11 of Set 10 | mossendjo\n",
      "Processing Record 12 of Set 10 | nalut\n",
      "Processing Record 13 of Set 10 | havre-saint-pierre\n",
      "Processing Record 14 of Set 10 | cap-aux-meules\n",
      "Processing Record 15 of Set 10 | krasnyy kut\n",
      "Processing Record 16 of Set 10 | brae\n",
      "Processing Record 17 of Set 10 | burnie\n",
      "Processing Record 18 of Set 10 | kahului\n",
      "Processing Record 19 of Set 10 | palafrugell\n",
      "Processing Record 20 of Set 10 | tarakan\n",
      "CITY NOT FOUND. SKIPPING...\n",
      "Processing Record 21 of Set 10 | hami\n",
      "Processing Record 22 of Set 10 | rabaul\n",
      "Processing Record 23 of Set 10 | pisco\n",
      "Processing Record 24 of Set 10 | asandh\n",
      "Processing Record 25 of Set 10 | seminole\n",
      "Processing Record 26 of Set 10 | college\n",
      "Processing Record 27 of Set 10 | nhulunbuy\n",
      "Processing Record 28 of Set 10 | farafangana\n",
      "Processing Record 29 of Set 10 | wuwei\n",
      "Processing Record 30 of Set 10 | manyana\n",
      "Processing Record 31 of Set 10 | vuktyl\n",
      "Processing Record 32 of Set 10 | manokwari\n",
      "Processing Record 33 of Set 10 | srednekolymsk\n",
      "Processing Record 34 of Set 10 | baijiantan\n",
      "Processing Record 35 of Set 10 | bandar\n",
      "Processing Record 36 of Set 10 | blagoyevo\n",
      "Processing Record 37 of Set 10 | namatanai\n",
      "Processing Record 38 of Set 10 | ketchikan\n",
      "Processing Record 39 of Set 10 | calamar\n",
      "CITY NOT FOUND. SKIPPING...\n",
      "Processing Record 40 of Set 10 | sartell\n",
      "Processing Record 41 of Set 10 | kruisfontein\n",
      "Processing Record 42 of Set 10 | mandera\n",
      "Processing Record 43 of Set 10 | mayo\n",
      "Processing Record 44 of Set 10 | northam\n",
      "Processing Record 45 of Set 10 | nouadhibou\n",
      "Processing Record 46 of Set 10 | baruun-urt\n",
      "Processing Record 47 of Set 10 | grand river south east\n",
      "Processing Record 48 of Set 10 | rovaniemi\n",
      "CITY NOT FOUND. SKIPPING...\n",
      "Processing Record 49 of Set 10 | fort saint james\n",
      "Processing Record 1 of Set 11 | itarare\n",
      "Processing Record 2 of Set 11 | hokitika\n",
      "CITY NOT FOUND. SKIPPING...\n",
      "Processing Record 3 of Set 11 | calvinia\n",
      "Processing Record 4 of Set 11 | namibe\n",
      "CITY NOT FOUND. SKIPPING...\n",
      "Processing Record 5 of Set 11 | woodward\n",
      "Processing Record 6 of Set 11 | bichura\n",
      "Processing Record 7 of Set 11 | valparaiso\n",
      "Processing Record 8 of Set 11 | jardim\n",
      "Processing Record 9 of Set 11 | amga\n",
      "Processing Record 10 of Set 11 | chumikan\n",
      "Processing Record 11 of Set 11 | casa nova\n",
      "CITY NOT FOUND. SKIPPING...\n",
      "CITY NOT FOUND. SKIPPING...\n",
      "Processing Record 12 of Set 11 | tuatapere\n",
      "Processing Record 13 of Set 11 | kumla\n",
      "Processing Record 14 of Set 11 | semey\n",
      "Processing Record 15 of Set 11 | kokkola\n",
      "Processing Record 16 of Set 11 | komatipoort\n",
      "Processing Record 17 of Set 11 | spas-demensk\n",
      "Processing Record 18 of Set 11 | impfondo\n",
      "Processing Record 19 of Set 11 | priekule\n",
      "Processing Record 20 of Set 11 | darnah\n",
      "Processing Record 21 of Set 11 | krabi\n",
      "Processing Record 22 of Set 11 | bastia\n",
      "Processing Record 23 of Set 11 | benguela\n",
      "Processing Record 24 of Set 11 | letlhakane\n",
      "Processing Record 25 of Set 11 | naron\n",
      "Processing Record 26 of Set 11 | springfield\n",
      "Processing Record 27 of Set 11 | lahij\n",
      "Processing Record 28 of Set 11 | shimoda\n",
      "Processing Record 29 of Set 11 | rangpo\n",
      "Processing Record 30 of Set 11 | mandalgovi\n",
      "Processing Record 31 of Set 11 | sao miguel do araguaia\n",
      "Processing Record 32 of Set 11 | lahaina\n",
      "Processing Record 33 of Set 11 | atasu\n",
      "CITY NOT FOUND. SKIPPING...\n",
      "Processing Record 34 of Set 11 | tsiroanomandidy\n",
      "Processing Record 35 of Set 11 | carupano\n",
      "Processing Record 36 of Set 11 | bac lieu\n",
      "Processing Record 37 of Set 11 | sakete\n",
      "Processing Record 38 of Set 11 | atbasar\n",
      "Processing Record 39 of Set 11 | barmer\n",
      "Processing Record 40 of Set 11 | coquimbo\n",
      "Processing Record 41 of Set 11 | aiquile\n",
      "Processing Record 42 of Set 11 | praia da vitoria\n",
      "Processing Record 43 of Set 11 | hakui\n",
      "Processing Record 44 of Set 11 | barguzin\n",
      "CITY NOT FOUND. SKIPPING...\n",
      "Processing Record 45 of Set 11 | gigmoto\n",
      "Processing Record 46 of Set 11 | fillmore\n",
      "Processing Record 47 of Set 11 | yar-sale\n",
      "CITY NOT FOUND. SKIPPING...\n",
      "Processing Record 48 of Set 11 | abasolo\n",
      "Processing Record 49 of Set 11 | manadhoo\n",
      "Processing Record 1 of Set 12 | eucaliptus\n",
      "Processing Record 2 of Set 12 | santa maria del oro\n",
      "Processing Record 3 of Set 12 | grand baie\n",
      "Processing Record 4 of Set 12 | bogo\n",
      "Processing Record 5 of Set 12 | aguimes\n",
      "Processing Record 6 of Set 12 | kaduqli\n",
      "Processing Record 7 of Set 12 | yichang\n",
      "Processing Record 8 of Set 12 | batagay-alyta\n",
      "Processing Record 9 of Set 12 | chattanooga\n",
      "Processing Record 10 of Set 12 | makokou\n",
      "Processing Record 11 of Set 12 | champerico\n",
      "Processing Record 12 of Set 12 | mukhen\n",
      "Processing Record 13 of Set 12 | iquitos\n"
     ]
    }
   ],
   "source": [
    "units = \"imperial\"\n",
    "query_url = f\"http://api.openweathermap.org/data/2.5/weather?appid={weather_api_key}&units={units}&q=\"\n",
    "\n",
    "city_list = []\n",
    "cloudiness = []\n",
    "country = []\n",
    "date = []\n",
    "humidity = []\n",
    "lat = []\n",
    "lng = []\n",
    "max_temp = []\n",
    "wind_speed = []\n",
    "\n",
    "count_number = 0\n",
    "set_number = 1\n",
    "\n",
    "for city in cities:\n",
    "    try:\n",
    "        response = requests.get(query_url + city.replace(\" \",\"&\")).json()\n",
    "        cloudiness.append(response[\"clouds\"][\"all\"])\n",
    "        country.append(response[\"sys\"][\"country\"])\n",
    "        date.append(response[\"dt\"])\n",
    "        humidity.append(response[\"main\"]['humidity'])\n",
    "        lat.append(response[\"coord\"][\"lat\"])\n",
    "        lng.append(response[\"coord\"][\"lon\"])\n",
    "        max_temp.append(response[\"main\"]['temp_max'])\n",
    "        wind_speed.append(response[\"wind\"][\"speed\"])\n",
    "        if count_number > 48:\n",
    "            count_number = 1\n",
    "            set_number += 1\n",
    "            city_list.append(city)\n",
    "        else:\n",
    "            count_number += 1\n",
    "            city_list.append(city)\n",
    "        print(f\"Processing Record {count_number} of Set {set_number} | {city}\")\n",
    "    except (KeyError, IndexError):\n",
    "        print(\"CITY NOT FOUND. SKIPPING...\")      "
   ]
  },
  {
   "cell_type": "markdown",
   "metadata": {},
   "source": [
    "### Convert Raw Data to DataFrame\n",
    "* Export the city data into a .csv.\n",
    "* Display the DataFrame"
   ]
  },
  {
   "cell_type": "code",
   "execution_count": 4,
   "metadata": {},
   "outputs": [
    {
     "data": {
      "text/html": [
       "<div>\n",
       "<style scoped>\n",
       "    .dataframe tbody tr th:only-of-type {\n",
       "        vertical-align: middle;\n",
       "    }\n",
       "\n",
       "    .dataframe tbody tr th {\n",
       "        vertical-align: top;\n",
       "    }\n",
       "\n",
       "    .dataframe thead th {\n",
       "        text-align: right;\n",
       "    }\n",
       "</style>\n",
       "<table border=\"1\" class=\"dataframe\">\n",
       "  <thead>\n",
       "    <tr style=\"text-align: right;\">\n",
       "      <th></th>\n",
       "      <th>City</th>\n",
       "      <th>Cloudiness</th>\n",
       "      <th>Country</th>\n",
       "      <th>Date</th>\n",
       "      <th>Humidity</th>\n",
       "      <th>Lat</th>\n",
       "      <th>Lng</th>\n",
       "      <th>Max Temp</th>\n",
       "      <th>Wind Speed</th>\n",
       "    </tr>\n",
       "  </thead>\n",
       "  <tbody>\n",
       "    <tr>\n",
       "      <th>0</th>\n",
       "      <td>mataura</td>\n",
       "      <td>100</td>\n",
       "      <td>NZ</td>\n",
       "      <td>1618277964</td>\n",
       "      <td>95</td>\n",
       "      <td>-46.1927</td>\n",
       "      <td>168.8643</td>\n",
       "      <td>55.00</td>\n",
       "      <td>3.00</td>\n",
       "    </tr>\n",
       "    <tr>\n",
       "      <th>1</th>\n",
       "      <td>albany</td>\n",
       "      <td>100</td>\n",
       "      <td>US</td>\n",
       "      <td>1618277821</td>\n",
       "      <td>75</td>\n",
       "      <td>42.6001</td>\n",
       "      <td>-73.9662</td>\n",
       "      <td>50.00</td>\n",
       "      <td>4.52</td>\n",
       "    </tr>\n",
       "    <tr>\n",
       "      <th>2</th>\n",
       "      <td>anar darreh</td>\n",
       "      <td>0</td>\n",
       "      <td>FI</td>\n",
       "      <td>1618277983</td>\n",
       "      <td>93</td>\n",
       "      <td>68.9060</td>\n",
       "      <td>27.0288</td>\n",
       "      <td>17.60</td>\n",
       "      <td>1.14</td>\n",
       "    </tr>\n",
       "    <tr>\n",
       "      <th>3</th>\n",
       "      <td>jamestown</td>\n",
       "      <td>90</td>\n",
       "      <td>US</td>\n",
       "      <td>1618277856</td>\n",
       "      <td>81</td>\n",
       "      <td>42.0970</td>\n",
       "      <td>-79.2353</td>\n",
       "      <td>50.00</td>\n",
       "      <td>6.91</td>\n",
       "    </tr>\n",
       "    <tr>\n",
       "      <th>4</th>\n",
       "      <td>ginir</td>\n",
       "      <td>100</td>\n",
       "      <td>ET</td>\n",
       "      <td>1618277983</td>\n",
       "      <td>71</td>\n",
       "      <td>7.1333</td>\n",
       "      <td>40.7000</td>\n",
       "      <td>58.46</td>\n",
       "      <td>5.61</td>\n",
       "    </tr>\n",
       "    <tr>\n",
       "      <th>5</th>\n",
       "      <td>barghat</td>\n",
       "      <td>0</td>\n",
       "      <td>IN</td>\n",
       "      <td>1618277984</td>\n",
       "      <td>14</td>\n",
       "      <td>22.0333</td>\n",
       "      <td>79.7167</td>\n",
       "      <td>84.09</td>\n",
       "      <td>2.86</td>\n",
       "    </tr>\n",
       "    <tr>\n",
       "      <th>6</th>\n",
       "      <td>fortuna</td>\n",
       "      <td>1</td>\n",
       "      <td>US</td>\n",
       "      <td>1618277984</td>\n",
       "      <td>71</td>\n",
       "      <td>40.5982</td>\n",
       "      <td>-124.1573</td>\n",
       "      <td>55.99</td>\n",
       "      <td>13.80</td>\n",
       "    </tr>\n",
       "    <tr>\n",
       "      <th>7</th>\n",
       "      <td>labuhan</td>\n",
       "      <td>8</td>\n",
       "      <td>ID</td>\n",
       "      <td>1618277985</td>\n",
       "      <td>75</td>\n",
       "      <td>-6.8844</td>\n",
       "      <td>112.2051</td>\n",
       "      <td>82.80</td>\n",
       "      <td>4.29</td>\n",
       "    </tr>\n",
       "    <tr>\n",
       "      <th>8</th>\n",
       "      <td>ixtapa</td>\n",
       "      <td>1</td>\n",
       "      <td>MX</td>\n",
       "      <td>1618277892</td>\n",
       "      <td>73</td>\n",
       "      <td>20.7000</td>\n",
       "      <td>-105.2000</td>\n",
       "      <td>77.00</td>\n",
       "      <td>9.22</td>\n",
       "    </tr>\n",
       "    <tr>\n",
       "      <th>9</th>\n",
       "      <td>ordynskoye</td>\n",
       "      <td>100</td>\n",
       "      <td>RU</td>\n",
       "      <td>1618277985</td>\n",
       "      <td>99</td>\n",
       "      <td>54.3656</td>\n",
       "      <td>81.8994</td>\n",
       "      <td>34.72</td>\n",
       "      <td>6.51</td>\n",
       "    </tr>\n",
       "  </tbody>\n",
       "</table>\n",
       "</div>"
      ],
      "text/plain": [
       "          City  Cloudiness Country        Date  Humidity      Lat       Lng  \\\n",
       "0      mataura         100      NZ  1618277964        95 -46.1927  168.8643   \n",
       "1       albany         100      US  1618277821        75  42.6001  -73.9662   \n",
       "2  anar darreh           0      FI  1618277983        93  68.9060   27.0288   \n",
       "3    jamestown          90      US  1618277856        81  42.0970  -79.2353   \n",
       "4        ginir         100      ET  1618277983        71   7.1333   40.7000   \n",
       "5      barghat           0      IN  1618277984        14  22.0333   79.7167   \n",
       "6      fortuna           1      US  1618277984        71  40.5982 -124.1573   \n",
       "7      labuhan           8      ID  1618277985        75  -6.8844  112.2051   \n",
       "8       ixtapa           1      MX  1618277892        73  20.7000 -105.2000   \n",
       "9   ordynskoye         100      RU  1618277985        99  54.3656   81.8994   \n",
       "\n",
       "   Max Temp  Wind Speed  \n",
       "0     55.00        3.00  \n",
       "1     50.00        4.52  \n",
       "2     17.60        1.14  \n",
       "3     50.00        6.91  \n",
       "4     58.46        5.61  \n",
       "5     84.09        2.86  \n",
       "6     55.99       13.80  \n",
       "7     82.80        4.29  \n",
       "8     77.00        9.22  \n",
       "9     34.72        6.51  "
      ]
     },
     "execution_count": 4,
     "metadata": {},
     "output_type": "execute_result"
    }
   ],
   "source": [
    "weather_df = pd.DataFrame({ \n",
    "                \"City\" : city_list,\n",
    "                \"Cloudiness\" : cloudiness,\n",
    "                \"Country\" : country,\n",
    "                \"Date\" : date,\n",
    "                \"Humidity\" : humidity,\n",
    "                \"Lat\" : lat,\n",
    "                \"Lng\" : lng,\n",
    "                \"Max Temp\" : max_temp,\n",
    "                \"Wind Speed\" : wind_speed\n",
    "})\n",
    "\n",
    "weather_df.head(10)"
   ]
  },
  {
   "cell_type": "code",
   "execution_count": 5,
   "metadata": {},
   "outputs": [],
   "source": [
    "weather_df.to_csv(\"weather_df.csv\")"
   ]
  },
  {
   "cell_type": "markdown",
   "metadata": {},
   "source": [
    "## Inspect the data and remove the cities where the humidity > 100%.\n",
    "----\n",
    "Skip this step if there are no cities that have humidity > 100%. "
   ]
  },
  {
   "cell_type": "code",
   "execution_count": null,
   "metadata": {},
   "outputs": [],
   "source": []
  },
  {
   "cell_type": "code",
   "execution_count": 6,
   "metadata": {},
   "outputs": [],
   "source": [
    "#  Get the indices of cities that have humidity over 100%.\n"
   ]
  },
  {
   "cell_type": "code",
   "execution_count": 7,
   "metadata": {},
   "outputs": [],
   "source": [
    "# Make a new DataFrame equal to the city data to drop all humidity outliers by index.\n",
    "# Passing \"inplace=False\" will make a copy of the city_data DataFrame, which we call \"clean_city_data\".\n"
   ]
  },
  {
   "cell_type": "code",
   "execution_count": null,
   "metadata": {},
   "outputs": [],
   "source": [
    "\n"
   ]
  },
  {
   "cell_type": "markdown",
   "metadata": {},
   "source": [
    "## Plotting the Data\n",
    "* Use proper labeling of the plots using plot titles (including date of analysis) and axes labels.\n",
    "* Save the plotted figures as .pngs."
   ]
  },
  {
   "cell_type": "markdown",
   "metadata": {},
   "source": [
    "## Latitude vs. Temperature Plot"
   ]
  },
  {
   "cell_type": "code",
   "execution_count": 21,
   "metadata": {
    "scrolled": true
   },
   "outputs": [
    {
     "data": {
      "image/png": "[encoded data removed]",
      "text/plain": [
       "<Figure size 432x288 with 1 Axes>"
      ]
     },
     "metadata": {
      "needs_background": "light"
     },
     "output_type": "display_data"
    }
   ],
   "source": [
    "plt.scatter(weather_df[\"Lat\"], weather_df[\"Max Temp\"], marker = \"o\", facecolor = \"blue\", edgecolor = \"black\")\n",
    "\n",
    "plt.grid()\n",
    "\n",
    "plt.title(\"City Latitude vs. Max Temperature\")\n",
    "\n",
    "plt.xlabel(\"Latitude\")\n",
    "\n",
    "plt.ylabel(\"Max Temperature (F)\")\n",
    "\n",
    "plt.show()"
   ]
  },
  {
   "cell_type": "markdown",
   "metadata": {},
   "source": [
    "## Latitude vs. Humidity Plot"
   ]
  },
  {
   "cell_type": "code",
   "execution_count": 9,
   "metadata": {},
   "outputs": [
    {
     "data": {
      "image/png": "[encoded data removed]",
      "text/plain": [
       "<Figure size 432x288 with 1 Axes>"
      ]
     },
     "metadata": {
      "needs_background": "light"
     },
     "output_type": "display_data"
    }
   ],
   "source": [
    "plt.scatter(weather_df[\"Lat\"], weather_df[\"Humidity\"], marker = \"o\", color = \"blue\", edgecolor = \"black\")\n",
    "\n",
    "plt.grid()\n",
    "\n",
    "plt.title(\"City Latitude vs. Humidity\")\n",
    "\n",
    "plt.xlabel(\"Latitude\")\n",
    "\n",
    "plt.ylabel(\"Humidity(%)\")\n",
    "\n",
    "plt.show()"
   ]
  },
  {
   "cell_type": "markdown",
   "metadata": {},
   "source": [
    "## Latitude vs. Cloudiness Plot"
   ]
  },
  {
   "cell_type": "code",
   "execution_count": 10,
   "metadata": {},
   "outputs": [
    {
     "data": {
      "image/png": "[encoded data removed]",
      "text/plain": [
       "<Figure size 432x288 with 1 Axes>"
      ]
     },
     "metadata": {
      "needs_background": "light"
     },
     "output_type": "display_data"
    }
   ],
   "source": [
    "plt.scatter(weather_df[\"Lat\"], weather_df[\"Cloudiness\"], marker = \"o\", color = \"blue\", edgecolor = \"black\")\n",
    "\n",
    "plt.grid()\n",
    "\n",
    "plt.title(\"City Latitude vs. Cloudiness\")\n",
    "\n",
    "plt.xlabel(\"Latitude\")\n",
    "\n",
    "plt.ylabel(\"Cloudiness(%)\")\n",
    "\n",
    "plt.show()"
   ]
  },
  {
   "cell_type": "markdown",
   "metadata": {},
   "source": [
    "## Latitude vs. Wind Speed Plot"
   ]
  },
  {
   "cell_type": "code",
   "execution_count": 11,
   "metadata": {},
   "outputs": [
    {
     "data": {
      "image/png": "[encoded data removed]",
      "text/plain": [
       "<Figure size 432x288 with 1 Axes>"
      ]
     },
     "metadata": {
      "needs_background": "light"
     },
     "output_type": "display_data"
    }
   ],
   "source": [
    "plt.scatter(weather_df[\"Lat\"], weather_df[\"Wind Speed\"], marker = \"o\", color = \"blue\", edgecolor = \"black\")\n",
    "\n",
    "plt.grid()\n",
    "\n",
    "plt.title(\"City Latitude vs. Wind Speed\")\n",
    "\n",
    "plt.xlabel(\"Latitude\")\n",
    "\n",
    "plt.ylabel(\"Wind Speed(mph)\")\n",
    "\n",
    "plt.show()"
   ]
  },
  {
   "cell_type": "markdown",
   "metadata": {},
   "source": [
    "## Linear Regression"
   ]
  },
  {
   "cell_type": "code",
   "execution_count": 12,
   "metadata": {},
   "outputs": [],
   "source": [
    "northern_hemisphere = weather_df.loc[weather_df[\"Lat\"] >= 0]\n",
    "southern_hemisphere = weather_df.loc[weather_df[\"Lat\"] < 0]\n",
    "\n",
    "def linear_reg_plot(x,y):\n",
    "    print(f\"The r-squared is : {round(st.pearsonr(x, y)[0],2)}\")\n",
    "    (slope, intercept, rvalue, pvalue, stderr) = linregress(x, y)\n",
    "    regress_values = x * slope + intercept\n",
    "    line_eq = \"y = \" + str(round(slope,2)) + \"x + \" + str(round(intercept,2))\n",
    "    plt.scatter(x,y)\n",
    "    plt.plot(x,regress_values,\"r-\")\n",
    "    plt.annotate(line_eq,(x.median(),y.median()),fontsize=15,color=\"red\")"
   ]
  },
  {
   "cell_type": "markdown",
   "metadata": {},
   "source": [
    "####  Northern Hemisphere - Max Temp vs. Latitude Linear Regression"
   ]
  },
  {
   "cell_type": "code",
   "execution_count": 13,
   "metadata": {},
   "outputs": [
    {
     "name": "stdout",
     "output_type": "stream",
     "text": [
      "The r-squared is : -0.89\n",
      "None\n"
     ]
    },
    {
     "data": {
      "image/png": "[encoded data removed]",
      "text/plain": [
       "<Figure size 432x288 with 1 Axes>"
      ]
     },
     "metadata": {
      "needs_background": "light"
     },
     "output_type": "display_data"
    }
   ],
   "source": [
    "x_values = northern_hemisphere[\"Lat\"]\n",
    "\n",
    "y_values = northern_hemisphere[\"Max Temp\"]\n",
    "\n",
    "plt.xlabel(\"Latitude\")\n",
    "\n",
    "plt.ylabel(\"Max Temp (F)\")\n",
    "\n",
    "print(linear_reg_plot(x_values,y_values))"
   ]
  },
  {
   "cell_type": "markdown",
   "metadata": {},
   "source": [
    "####  Southern Hemisphere - Max Temp vs. Latitude Linear Regression"
   ]
  },
  {
   "cell_type": "code",
   "execution_count": 14,
   "metadata": {},
   "outputs": [
    {
     "name": "stdout",
     "output_type": "stream",
     "text": [
      "The r-squared is : 0.65\n",
      "None\n"
     ]
    },
    {
     "data": {
      "image/png": "[encoded data removed]",
      "text/plain": [
       "<Figure size 432x288 with 1 Axes>"
      ]
     },
     "metadata": {
      "needs_background": "light"
     },
     "output_type": "display_data"
    }
   ],
   "source": [
    "x_values = southern_hemisphere[\"Lat\"]\n",
    "\n",
    "y_values = southern_hemisphere[\"Max Temp\"]\n",
    "\n",
    "plt.xlabel(\"Latitude\")\n",
    "\n",
    "plt.ylabel(\"Max Temp (F)\")\n",
    "\n",
    "print(linear_reg_plot(x_values,y_values))"
   ]
  },
  {
   "cell_type": "markdown",
   "metadata": {},
   "source": [
    "####  Northern Hemisphere - Humidity (%) vs. Latitude Linear Regression"
   ]
  },
  {
   "cell_type": "code",
   "execution_count": 15,
   "metadata": {},
   "outputs": [
    {
     "name": "stdout",
     "output_type": "stream",
     "text": [
      "The r-squared is : 0.25\n",
      "None\n"
     ]
    },
    {
     "data": {
      "image/png": "[encoded data removed]",
      "text/plain": [
       "<Figure size 432x288 with 1 Axes>"
      ]
     },
     "metadata": {
      "needs_background": "light"
     },
     "output_type": "display_data"
    }
   ],
   "source": [
    "x_values = northern_hemisphere[\"Lat\"]\n",
    "\n",
    "y_values = northern_hemisphere[\"Humidity\"]\n",
    "\n",
    "plt.xlabel(\"Latitude\")\n",
    "\n",
    "plt.ylabel(\"Humidity (%)\")\n",
    "\n",
    "print(linear_reg_plot(x_values,y_values))"
   ]
  },
  {
   "cell_type": "markdown",
   "metadata": {},
   "source": [
    "####  Southern Hemisphere - Humidity (%) vs. Latitude Linear Regression"
   ]
  },
  {
   "cell_type": "code",
   "execution_count": 16,
   "metadata": {},
   "outputs": [
    {
     "name": "stdout",
     "output_type": "stream",
     "text": [
      "The r-squared is : 0.1\n",
      "None\n"
     ]
    },
    {
     "data": {
      "image/png": "[encoded data removed]",
      "text/plain": [
       "<Figure size 432x288 with 1 Axes>"
      ]
     },
     "metadata": {
      "needs_background": "light"
     },
     "output_type": "display_data"
    }
   ],
   "source": [
    "x_values = southern_hemisphere[\"Lat\"]\n",
    "\n",
    "y_values = southern_hemisphere[\"Humidity\"]\n",
    "\n",
    "plt.xlabel(\"Latitude\")\n",
    "\n",
    "plt.ylabel(\"Humidity (%)\")\n",
    "\n",
    "print(linear_reg_plot(x_values,y_values))"
   ]
  },
  {
   "cell_type": "markdown",
   "metadata": {},
   "source": [
    "####  Northern Hemisphere - Cloudiness (%) vs. Latitude Linear Regression"
   ]
  },
  {
   "cell_type": "code",
   "execution_count": 17,
   "metadata": {},
   "outputs": [
    {
     "name": "stdout",
     "output_type": "stream",
     "text": [
      "The r-squared is : 0.21\n",
      "None\n"
     ]
    },
    {
     "data": {
      "image/png": "[encoded data removed]",
      "text/plain": [
       "<Figure size 432x288 with 1 Axes>"
      ]
     },
     "metadata": {
      "needs_background": "light"
     },
     "output_type": "display_data"
    }
   ],
   "source": [
    "x_values = northern_hemisphere[\"Lat\"]\n",
    "\n",
    "y_values = northern_hemisphere[\"Cloudiness\"]\n",
    "\n",
    "plt.xlabel(\"Latitude\")\n",
    "\n",
    "plt.ylabel(\"Cloudiness (%)\")\n",
    "\n",
    "print(linear_reg_plot(x_values,y_values))"
   ]
  },
  {
   "cell_type": "markdown",
   "metadata": {},
   "source": [
    "####  Southern Hemisphere - Cloudiness (%) vs. Latitude Linear Regression"
   ]
  },
  {
   "cell_type": "code",
   "execution_count": 18,
   "metadata": {},
   "outputs": [
    {
     "name": "stdout",
     "output_type": "stream",
     "text": [
      "The r-squared is : 0.26\n",
      "None\n"
     ]
    },
    {
     "data": {
      "image/png": "[encoded data removed]",
      "text/plain": [
       "<Figure size 432x288 with 1 Axes>"
      ]
     },
     "metadata": {
      "needs_background": "light"
     },
     "output_type": "display_data"
    }
   ],
   "source": [
    "x_values = southern_hemisphere[\"Lat\"]\n",
    "\n",
    "y_values = southern_hemisphere[\"Cloudiness\"]\n",
    "\n",
    "plt.xlabel(\"Latitude\")\n",
    "\n",
    "plt.ylabel(\"Cloudiness (%)\")\n",
    "\n",
    "print(linear_reg_plot(x_values,y_values))"
   ]
  },
  {
   "cell_type": "markdown",
   "metadata": {},
   "source": [
    "####  Northern Hemisphere - Wind Speed (mph) vs. Latitude Linear Regression"
   ]
  },
  {
   "cell_type": "code",
   "execution_count": 19,
   "metadata": {},
   "outputs": [
    {
     "name": "stdout",
     "output_type": "stream",
     "text": [
      "The r-squared is : 0.17\n",
      "None\n"
     ]
    },
    {
     "data": {
      "image/png": "[encoded data removed]",
      "text/plain": [
       "<Figure size 432x288 with 1 Axes>"
      ]
     },
     "metadata": {
      "needs_background": "light"
     },
     "output_type": "display_data"
    }
   ],
   "source": [
    "x_values = northern_hemisphere[\"Lat\"]\n",
    "\n",
    "y_values = northern_hemisphere[\"Wind Speed\"]\n",
    "\n",
    "plt.xlabel(\"Latitude\")\n",
    "\n",
    "plt.ylabel(\"Wind Speed (mph)\")\n",
    "\n",
    "print(linear_reg_plot(x_values,y_values))"
   ]
  },
  {
   "cell_type": "markdown",
   "metadata": {},
   "source": [
    "####  Southern Hemisphere - Wind Speed (mph) vs. Latitude Linear Regression"
   ]
  },
  {
   "cell_type": "code",
   "execution_count": 20,
   "metadata": {},
   "outputs": [
    {
     "name": "stdout",
     "output_type": "stream",
     "text": [
      "The r-squared is : -0.33\n",
      "None\n"
     ]
    },
    {
     "data": {
      "image/png": "[encoded data removed]",
      "text/plain": [
       "<Figure size 432x288 with 1 Axes>"
      ]
     },
     "metadata": {
      "needs_background": "light"
     },
     "output_type": "display_data"
    }
   ],
   "source": [
    "x_values = southern_hemisphere[\"Lat\"]\n",
    "\n",
    "y_values = southern_hemisphere[\"Wind Speed\"]\n",
    "\n",
    "plt.xlabel(\"Latitude\")\n",
    "\n",
    "plt.ylabel(\"Wind Speed (mph)\")\n",
    "\n",
    "print(linear_reg_plot(x_values,y_values))"
   ]
  },
  {
   "cell_type": "code",
   "execution_count": null,
   "metadata": {},
   "outputs": [],
   "source": []
  }
 ],
 "metadata": {
  "anaconda-cloud": {},
  "kernel_info": {
   "name": "python3"
  },
  "kernelspec": {
   "display_name": "Python 3",
   "language": "python",
   "name": "python3"
  },
  "language_info": {
   "codemirror_mode": {
    "name": "ipython",
    "version": 3
   },
   "file_extension": ".py",
   "mimetype": "text/x-python",
   "name": "python",
   "nbconvert_exporter": "python",
   "pygments_lexer": "ipython3",
   "version": "3.8.5"
  },
  "latex_envs": {
   "LaTeX_envs_menu_present": true,
   "autoclose": false,
   "autocomplete": true,
   "bibliofile": "biblio.bib",
   "cite_by": "apalike",
   "current_citInitial": 1,
   "eqLabelWithNumbers": true,
   "eqNumInitial": 1,
   "hotkeys": {
    "equation": "Ctrl-E",
    "itemize": "Ctrl-I"
   },
   "labels_anchors": false,
   "latex_user_defs": false,
   "report_style_numbering": false,
   "user_envs_cfg": false
  },
  "nteract": {
   "version": "0.12.3"
  }
 },
 "nbformat": 4,
 "nbformat_minor": 2
}
